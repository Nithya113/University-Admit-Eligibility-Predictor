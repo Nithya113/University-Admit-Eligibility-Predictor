{
  "cells": [
    {
      "cell_type": "markdown",
      "source": [
        "# UNIVERSITY ELIGIBILY ADMIT PREDICTOR"
      ],
      "metadata": {
        "id": "Fx0LLzKhxXs0"
      }
    },
    {
      "cell_type": "markdown",
      "metadata": {
        "id": "BjnOfxq121cj"
      },
      "source": [
        "## 1. Importing Libraries"
      ]
    },
    {
      "cell_type": "code",
      "execution_count": 356,
      "metadata": {
        "id": "G4MyjuZuKjiH"
      },
      "outputs": [],
      "source": [
        "import pandas as pd\n",
        "import numpy as np\n",
        "import seaborn as sns\n",
        "import matplotlib.pyplot as plt\n",
        "from sklearn.linear_model import LinearRegression\n",
        "import pickle"
      ]
    },
    {
      "cell_type": "markdown",
      "metadata": {
        "id": "AqHwxuBe25MG"
      },
      "source": [
        "## 2. Loading the datasets"
      ]
    },
    {
      "cell_type": "code",
      "execution_count": 357,
      "metadata": {
        "id": "SnAtuumgMDKA"
      },
      "outputs": [],
      "source": [
        "df1 = pd.read_csv(\"round_1.csv\")\n",
        "df2 = pd.read_csv(\"round_2.csv\")\n",
        "df3 = pd.read_csv(\"round_3.csv\")\n",
        "df4 = pd.read_csv(\"round_4.csv\")"
      ]
    },
    {
      "cell_type": "markdown",
      "metadata": {
        "id": "BfhYPGb_28Hv"
      },
      "source": [
        "## 3. Adding the 'round' column"
      ]
    },
    {
      "cell_type": "code",
      "execution_count": 358,
      "metadata": {
        "id": "2EwIiW_ZMRoJ"
      },
      "outputs": [],
      "source": [
        "df1['ROUND'] = 1\n",
        "df2['ROUND'] = 2\n",
        "df3['ROUND'] = 3\n",
        "df4['ROUND'] = 4"
      ]
    },
    {
      "cell_type": "code",
      "execution_count": 359,
      "metadata": {
        "colab": {
          "base_uri": "https://localhost:8080/",
          "height": 267
        },
        "id": "81h8S8VwM5yQ",
        "outputId": "a5a3fe5e-a028-4026-ff6d-3bc4d58b3c15"
      },
      "outputs": [
        {
          "output_type": "execute_result",
          "data": {
            "text/plain": [
              "   S NO  APPLICATION NUMBER NAME OF THE CANDIDATE  AGGREGATE MARK  RANK  \\\n",
              "0     1              316999          J NITHYASREE           200.0     1   \n",
              "1     2              251701           SREENITHI A           200.0     3   \n",
              "2     3              340928       UMA SHWETHA P L           200.0     6   \n",
              "3     4              258426   SUBHASRI SHREYA S L           200.0     7   \n",
              "4     5              243792        Sarathivasan s           200.0     8   \n",
              "\n",
              "  COMMUNITY  COLLEGE CODE BRANCH CODE ALLOTTED CATEGORY  ROUND  \n",
              "0      MBCV             1          CS                OC      1  \n",
              "1        BC             1          CS                OC      1  \n",
              "2        OC             1          EC                OC      1  \n",
              "3        BC          2006          CM                OC      1  \n",
              "4        BC             1          CS                OC      1  "
            ],
            "text/html": [
              "\n",
              "  <div id=\"df-df2b0104-0fa7-4b4f-8afc-c9497041786a\">\n",
              "    <div class=\"colab-df-container\">\n",
              "      <div>\n",
              "<style scoped>\n",
              "    .dataframe tbody tr th:only-of-type {\n",
              "        vertical-align: middle;\n",
              "    }\n",
              "\n",
              "    .dataframe tbody tr th {\n",
              "        vertical-align: top;\n",
              "    }\n",
              "\n",
              "    .dataframe thead th {\n",
              "        text-align: right;\n",
              "    }\n",
              "</style>\n",
              "<table border=\"1\" class=\"dataframe\">\n",
              "  <thead>\n",
              "    <tr style=\"text-align: right;\">\n",
              "      <th></th>\n",
              "      <th>S NO</th>\n",
              "      <th>APPLICATION NUMBER</th>\n",
              "      <th>NAME OF THE CANDIDATE</th>\n",
              "      <th>AGGREGATE MARK</th>\n",
              "      <th>RANK</th>\n",
              "      <th>COMMUNITY</th>\n",
              "      <th>COLLEGE CODE</th>\n",
              "      <th>BRANCH CODE</th>\n",
              "      <th>ALLOTTED CATEGORY</th>\n",
              "      <th>ROUND</th>\n",
              "    </tr>\n",
              "  </thead>\n",
              "  <tbody>\n",
              "    <tr>\n",
              "      <th>0</th>\n",
              "      <td>1</td>\n",
              "      <td>316999</td>\n",
              "      <td>J NITHYASREE</td>\n",
              "      <td>200.0</td>\n",
              "      <td>1</td>\n",
              "      <td>MBCV</td>\n",
              "      <td>1</td>\n",
              "      <td>CS</td>\n",
              "      <td>OC</td>\n",
              "      <td>1</td>\n",
              "    </tr>\n",
              "    <tr>\n",
              "      <th>1</th>\n",
              "      <td>2</td>\n",
              "      <td>251701</td>\n",
              "      <td>SREENITHI A</td>\n",
              "      <td>200.0</td>\n",
              "      <td>3</td>\n",
              "      <td>BC</td>\n",
              "      <td>1</td>\n",
              "      <td>CS</td>\n",
              "      <td>OC</td>\n",
              "      <td>1</td>\n",
              "    </tr>\n",
              "    <tr>\n",
              "      <th>2</th>\n",
              "      <td>3</td>\n",
              "      <td>340928</td>\n",
              "      <td>UMA SHWETHA P L</td>\n",
              "      <td>200.0</td>\n",
              "      <td>6</td>\n",
              "      <td>OC</td>\n",
              "      <td>1</td>\n",
              "      <td>EC</td>\n",
              "      <td>OC</td>\n",
              "      <td>1</td>\n",
              "    </tr>\n",
              "    <tr>\n",
              "      <th>3</th>\n",
              "      <td>4</td>\n",
              "      <td>258426</td>\n",
              "      <td>SUBHASRI SHREYA S L</td>\n",
              "      <td>200.0</td>\n",
              "      <td>7</td>\n",
              "      <td>BC</td>\n",
              "      <td>2006</td>\n",
              "      <td>CM</td>\n",
              "      <td>OC</td>\n",
              "      <td>1</td>\n",
              "    </tr>\n",
              "    <tr>\n",
              "      <th>4</th>\n",
              "      <td>5</td>\n",
              "      <td>243792</td>\n",
              "      <td>Sarathivasan s</td>\n",
              "      <td>200.0</td>\n",
              "      <td>8</td>\n",
              "      <td>BC</td>\n",
              "      <td>1</td>\n",
              "      <td>CS</td>\n",
              "      <td>OC</td>\n",
              "      <td>1</td>\n",
              "    </tr>\n",
              "  </tbody>\n",
              "</table>\n",
              "</div>\n",
              "      <button class=\"colab-df-convert\" onclick=\"convertToInteractive('df-df2b0104-0fa7-4b4f-8afc-c9497041786a')\"\n",
              "              title=\"Convert this dataframe to an interactive table.\"\n",
              "              style=\"display:none;\">\n",
              "        \n",
              "  <svg xmlns=\"http://www.w3.org/2000/svg\" height=\"24px\"viewBox=\"0 0 24 24\"\n",
              "       width=\"24px\">\n",
              "    <path d=\"M0 0h24v24H0V0z\" fill=\"none\"/>\n",
              "    <path d=\"M18.56 5.44l.94 2.06.94-2.06 2.06-.94-2.06-.94-.94-2.06-.94 2.06-2.06.94zm-11 1L8.5 8.5l.94-2.06 2.06-.94-2.06-.94L8.5 2.5l-.94 2.06-2.06.94zm10 10l.94 2.06.94-2.06 2.06-.94-2.06-.94-.94-2.06-.94 2.06-2.06.94z\"/><path d=\"M17.41 7.96l-1.37-1.37c-.4-.4-.92-.59-1.43-.59-.52 0-1.04.2-1.43.59L10.3 9.45l-7.72 7.72c-.78.78-.78 2.05 0 2.83L4 21.41c.39.39.9.59 1.41.59.51 0 1.02-.2 1.41-.59l7.78-7.78 2.81-2.81c.8-.78.8-2.07 0-2.86zM5.41 20L4 18.59l7.72-7.72 1.47 1.35L5.41 20z\"/>\n",
              "  </svg>\n",
              "      </button>\n",
              "      \n",
              "  <style>\n",
              "    .colab-df-container {\n",
              "      display:flex;\n",
              "      flex-wrap:wrap;\n",
              "      gap: 12px;\n",
              "    }\n",
              "\n",
              "    .colab-df-convert {\n",
              "      background-color: #E8F0FE;\n",
              "      border: none;\n",
              "      border-radius: 50%;\n",
              "      cursor: pointer;\n",
              "      display: none;\n",
              "      fill: #1967D2;\n",
              "      height: 32px;\n",
              "      padding: 0 0 0 0;\n",
              "      width: 32px;\n",
              "    }\n",
              "\n",
              "    .colab-df-convert:hover {\n",
              "      background-color: #E2EBFA;\n",
              "      box-shadow: 0px 1px 2px rgba(60, 64, 67, 0.3), 0px 1px 3px 1px rgba(60, 64, 67, 0.15);\n",
              "      fill: #174EA6;\n",
              "    }\n",
              "\n",
              "    [theme=dark] .colab-df-convert {\n",
              "      background-color: #3B4455;\n",
              "      fill: #D2E3FC;\n",
              "    }\n",
              "\n",
              "    [theme=dark] .colab-df-convert:hover {\n",
              "      background-color: #434B5C;\n",
              "      box-shadow: 0px 1px 3px 1px rgba(0, 0, 0, 0.15);\n",
              "      filter: drop-shadow(0px 1px 2px rgba(0, 0, 0, 0.3));\n",
              "      fill: #FFFFFF;\n",
              "    }\n",
              "  </style>\n",
              "\n",
              "      <script>\n",
              "        const buttonEl =\n",
              "          document.querySelector('#df-df2b0104-0fa7-4b4f-8afc-c9497041786a button.colab-df-convert');\n",
              "        buttonEl.style.display =\n",
              "          google.colab.kernel.accessAllowed ? 'block' : 'none';\n",
              "\n",
              "        async function convertToInteractive(key) {\n",
              "          const element = document.querySelector('#df-df2b0104-0fa7-4b4f-8afc-c9497041786a');\n",
              "          const dataTable =\n",
              "            await google.colab.kernel.invokeFunction('convertToInteractive',\n",
              "                                                     [key], {});\n",
              "          if (!dataTable) return;\n",
              "\n",
              "          const docLinkHtml = 'Like what you see? Visit the ' +\n",
              "            '<a target=\"_blank\" href=https://colab.research.google.com/notebooks/data_table.ipynb>data table notebook</a>'\n",
              "            + ' to learn more about interactive tables.';\n",
              "          element.innerHTML = '';\n",
              "          dataTable['output_type'] = 'display_data';\n",
              "          await google.colab.output.renderOutput(dataTable, element);\n",
              "          const docLink = document.createElement('div');\n",
              "          docLink.innerHTML = docLinkHtml;\n",
              "          element.appendChild(docLink);\n",
              "        }\n",
              "      </script>\n",
              "    </div>\n",
              "  </div>\n",
              "  "
            ]
          },
          "metadata": {},
          "execution_count": 359
        }
      ],
      "source": [
        "df1.head()"
      ]
    },
    {
      "cell_type": "code",
      "execution_count": 360,
      "metadata": {
        "colab": {
          "base_uri": "https://localhost:8080/"
        },
        "id": "zHZE7nIn5Hvx",
        "outputId": "e3690f2e-f331-461f-e2b8-78d861446a68"
      },
      "outputs": [
        {
          "output_type": "stream",
          "name": "stdout",
          "text": [
            "<class 'pandas.core.frame.DataFrame'>\n",
            "RangeIndex: 10118 entries, 0 to 10117\n",
            "Data columns (total 10 columns):\n",
            " #   Column                 Non-Null Count  Dtype  \n",
            "---  ------                 --------------  -----  \n",
            " 0   S NO                   10118 non-null  int64  \n",
            " 1   APPLICATION NUMBER     10118 non-null  int64  \n",
            " 2   NAME OF THE CANDIDATE  10118 non-null  object \n",
            " 3   AGGREGATE MARK         10118 non-null  float64\n",
            " 4   RANK                   10118 non-null  int64  \n",
            " 5   COMMUNITY              10118 non-null  object \n",
            " 6   COLLEGE CODE           10118 non-null  int64  \n",
            " 7   BRANCH CODE            10118 non-null  object \n",
            " 8   ALLOTTED CATEGORY      10118 non-null  object \n",
            " 9   ROUND                  10118 non-null  int64  \n",
            "dtypes: float64(1), int64(5), object(4)\n",
            "memory usage: 790.6+ KB\n"
          ]
        }
      ],
      "source": [
        "df1.info()"
      ]
    },
    {
      "cell_type": "code",
      "execution_count": 361,
      "metadata": {
        "colab": {
          "base_uri": "https://localhost:8080/",
          "height": 267
        },
        "id": "30mLoi1MNpEi",
        "outputId": "974be9c3-ac21-455d-b462-0387090beef0"
      },
      "outputs": [
        {
          "output_type": "execute_result",
          "data": {
            "text/plain": [
              "   S NO  APPLICATION NUMBER NAME OF THE CANDIDATE  AGGREGATE MARK  RANK  \\\n",
              "0     1              339809       Derin Patrick J         199.500    15   \n",
              "1     2              317367            M NIKKETHA         197.000   436   \n",
              "2     3              292209     shyamalan senthil         195.500  1013   \n",
              "3     4              241046            SANTHIYA E         195.350  1087   \n",
              "4     5              309601               SHAJI S         195.185  1150   \n",
              "\n",
              "  COMMUNITY  COLLEGE CODE BRANCH CODE ALLOTTED CATEGORY  ROUND  \n",
              "0        BC          1149          AD                OC      2  \n",
              "1        SC             2          CL                SC      2  \n",
              "2        BC          1324          CS                OC      2  \n",
              "3        BC          3011          IT                OC      2  \n",
              "4        OC          1026          CS                OC      2  "
            ],
            "text/html": [
              "\n",
              "  <div id=\"df-fc9c89f4-c92a-4920-9e3a-43964d2bd9d8\">\n",
              "    <div class=\"colab-df-container\">\n",
              "      <div>\n",
              "<style scoped>\n",
              "    .dataframe tbody tr th:only-of-type {\n",
              "        vertical-align: middle;\n",
              "    }\n",
              "\n",
              "    .dataframe tbody tr th {\n",
              "        vertical-align: top;\n",
              "    }\n",
              "\n",
              "    .dataframe thead th {\n",
              "        text-align: right;\n",
              "    }\n",
              "</style>\n",
              "<table border=\"1\" class=\"dataframe\">\n",
              "  <thead>\n",
              "    <tr style=\"text-align: right;\">\n",
              "      <th></th>\n",
              "      <th>S NO</th>\n",
              "      <th>APPLICATION NUMBER</th>\n",
              "      <th>NAME OF THE CANDIDATE</th>\n",
              "      <th>AGGREGATE MARK</th>\n",
              "      <th>RANK</th>\n",
              "      <th>COMMUNITY</th>\n",
              "      <th>COLLEGE CODE</th>\n",
              "      <th>BRANCH CODE</th>\n",
              "      <th>ALLOTTED CATEGORY</th>\n",
              "      <th>ROUND</th>\n",
              "    </tr>\n",
              "  </thead>\n",
              "  <tbody>\n",
              "    <tr>\n",
              "      <th>0</th>\n",
              "      <td>1</td>\n",
              "      <td>339809</td>\n",
              "      <td>Derin Patrick J</td>\n",
              "      <td>199.500</td>\n",
              "      <td>15</td>\n",
              "      <td>BC</td>\n",
              "      <td>1149</td>\n",
              "      <td>AD</td>\n",
              "      <td>OC</td>\n",
              "      <td>2</td>\n",
              "    </tr>\n",
              "    <tr>\n",
              "      <th>1</th>\n",
              "      <td>2</td>\n",
              "      <td>317367</td>\n",
              "      <td>M NIKKETHA</td>\n",
              "      <td>197.000</td>\n",
              "      <td>436</td>\n",
              "      <td>SC</td>\n",
              "      <td>2</td>\n",
              "      <td>CL</td>\n",
              "      <td>SC</td>\n",
              "      <td>2</td>\n",
              "    </tr>\n",
              "    <tr>\n",
              "      <th>2</th>\n",
              "      <td>3</td>\n",
              "      <td>292209</td>\n",
              "      <td>shyamalan senthil</td>\n",
              "      <td>195.500</td>\n",
              "      <td>1013</td>\n",
              "      <td>BC</td>\n",
              "      <td>1324</td>\n",
              "      <td>CS</td>\n",
              "      <td>OC</td>\n",
              "      <td>2</td>\n",
              "    </tr>\n",
              "    <tr>\n",
              "      <th>3</th>\n",
              "      <td>4</td>\n",
              "      <td>241046</td>\n",
              "      <td>SANTHIYA E</td>\n",
              "      <td>195.350</td>\n",
              "      <td>1087</td>\n",
              "      <td>BC</td>\n",
              "      <td>3011</td>\n",
              "      <td>IT</td>\n",
              "      <td>OC</td>\n",
              "      <td>2</td>\n",
              "    </tr>\n",
              "    <tr>\n",
              "      <th>4</th>\n",
              "      <td>5</td>\n",
              "      <td>309601</td>\n",
              "      <td>SHAJI S</td>\n",
              "      <td>195.185</td>\n",
              "      <td>1150</td>\n",
              "      <td>OC</td>\n",
              "      <td>1026</td>\n",
              "      <td>CS</td>\n",
              "      <td>OC</td>\n",
              "      <td>2</td>\n",
              "    </tr>\n",
              "  </tbody>\n",
              "</table>\n",
              "</div>\n",
              "      <button class=\"colab-df-convert\" onclick=\"convertToInteractive('df-fc9c89f4-c92a-4920-9e3a-43964d2bd9d8')\"\n",
              "              title=\"Convert this dataframe to an interactive table.\"\n",
              "              style=\"display:none;\">\n",
              "        \n",
              "  <svg xmlns=\"http://www.w3.org/2000/svg\" height=\"24px\"viewBox=\"0 0 24 24\"\n",
              "       width=\"24px\">\n",
              "    <path d=\"M0 0h24v24H0V0z\" fill=\"none\"/>\n",
              "    <path d=\"M18.56 5.44l.94 2.06.94-2.06 2.06-.94-2.06-.94-.94-2.06-.94 2.06-2.06.94zm-11 1L8.5 8.5l.94-2.06 2.06-.94-2.06-.94L8.5 2.5l-.94 2.06-2.06.94zm10 10l.94 2.06.94-2.06 2.06-.94-2.06-.94-.94-2.06-.94 2.06-2.06.94z\"/><path d=\"M17.41 7.96l-1.37-1.37c-.4-.4-.92-.59-1.43-.59-.52 0-1.04.2-1.43.59L10.3 9.45l-7.72 7.72c-.78.78-.78 2.05 0 2.83L4 21.41c.39.39.9.59 1.41.59.51 0 1.02-.2 1.41-.59l7.78-7.78 2.81-2.81c.8-.78.8-2.07 0-2.86zM5.41 20L4 18.59l7.72-7.72 1.47 1.35L5.41 20z\"/>\n",
              "  </svg>\n",
              "      </button>\n",
              "      \n",
              "  <style>\n",
              "    .colab-df-container {\n",
              "      display:flex;\n",
              "      flex-wrap:wrap;\n",
              "      gap: 12px;\n",
              "    }\n",
              "\n",
              "    .colab-df-convert {\n",
              "      background-color: #E8F0FE;\n",
              "      border: none;\n",
              "      border-radius: 50%;\n",
              "      cursor: pointer;\n",
              "      display: none;\n",
              "      fill: #1967D2;\n",
              "      height: 32px;\n",
              "      padding: 0 0 0 0;\n",
              "      width: 32px;\n",
              "    }\n",
              "\n",
              "    .colab-df-convert:hover {\n",
              "      background-color: #E2EBFA;\n",
              "      box-shadow: 0px 1px 2px rgba(60, 64, 67, 0.3), 0px 1px 3px 1px rgba(60, 64, 67, 0.15);\n",
              "      fill: #174EA6;\n",
              "    }\n",
              "\n",
              "    [theme=dark] .colab-df-convert {\n",
              "      background-color: #3B4455;\n",
              "      fill: #D2E3FC;\n",
              "    }\n",
              "\n",
              "    [theme=dark] .colab-df-convert:hover {\n",
              "      background-color: #434B5C;\n",
              "      box-shadow: 0px 1px 3px 1px rgba(0, 0, 0, 0.15);\n",
              "      filter: drop-shadow(0px 1px 2px rgba(0, 0, 0, 0.3));\n",
              "      fill: #FFFFFF;\n",
              "    }\n",
              "  </style>\n",
              "\n",
              "      <script>\n",
              "        const buttonEl =\n",
              "          document.querySelector('#df-fc9c89f4-c92a-4920-9e3a-43964d2bd9d8 button.colab-df-convert');\n",
              "        buttonEl.style.display =\n",
              "          google.colab.kernel.accessAllowed ? 'block' : 'none';\n",
              "\n",
              "        async function convertToInteractive(key) {\n",
              "          const element = document.querySelector('#df-fc9c89f4-c92a-4920-9e3a-43964d2bd9d8');\n",
              "          const dataTable =\n",
              "            await google.colab.kernel.invokeFunction('convertToInteractive',\n",
              "                                                     [key], {});\n",
              "          if (!dataTable) return;\n",
              "\n",
              "          const docLinkHtml = 'Like what you see? Visit the ' +\n",
              "            '<a target=\"_blank\" href=https://colab.research.google.com/notebooks/data_table.ipynb>data table notebook</a>'\n",
              "            + ' to learn more about interactive tables.';\n",
              "          element.innerHTML = '';\n",
              "          dataTable['output_type'] = 'display_data';\n",
              "          await google.colab.output.renderOutput(dataTable, element);\n",
              "          const docLink = document.createElement('div');\n",
              "          docLink.innerHTML = docLinkHtml;\n",
              "          element.appendChild(docLink);\n",
              "        }\n",
              "      </script>\n",
              "    </div>\n",
              "  </div>\n",
              "  "
            ]
          },
          "metadata": {},
          "execution_count": 361
        }
      ],
      "source": [
        "df2.head()"
      ]
    },
    {
      "cell_type": "code",
      "execution_count": 362,
      "metadata": {
        "colab": {
          "base_uri": "https://localhost:8080/",
          "height": 285
        },
        "id": "yV0UkablNqmT",
        "outputId": "3dbdb8a0-5f3c-4bac-ffe1-6b3866448bb1"
      },
      "outputs": [
        {
          "output_type": "execute_result",
          "data": {
            "text/plain": [
              "   S NO  APPLICATION NUMBER     NAME OF THE CANDIDATE  AGGREGATE MARK  RANK  \\\n",
              "0     1              312150                CHANDINI D         193.900  2122   \n",
              "1     2              215831                  KANIHA.K         193.185  2612   \n",
              "2     3              351148  ABDULLAH THOAHA YASEEN Y         192.500  3516   \n",
              "3     4              299636               SANGEETHA R         192.110  3814   \n",
              "4     5              240841                 JANAGAN A         190.395  6493   \n",
              "\n",
              "  COMMUNITY  COLLEGE CODE BRANCH CODE ALLOTTED CATEGORY  ROUND  \n",
              "0        BC          2751          IT                BC      3  \n",
              "1        BC          4024          EC                BC      3  \n",
              "2       BCM          1422          EC               BCM      3  \n",
              "3        BC          4678          EC                BC      3  \n",
              "4      MBCV          2708          CS              MBCV      3  "
            ],
            "text/html": [
              "\n",
              "  <div id=\"df-f663a95d-4bfc-403d-b93d-18346e3c04d5\">\n",
              "    <div class=\"colab-df-container\">\n",
              "      <div>\n",
              "<style scoped>\n",
              "    .dataframe tbody tr th:only-of-type {\n",
              "        vertical-align: middle;\n",
              "    }\n",
              "\n",
              "    .dataframe tbody tr th {\n",
              "        vertical-align: top;\n",
              "    }\n",
              "\n",
              "    .dataframe thead th {\n",
              "        text-align: right;\n",
              "    }\n",
              "</style>\n",
              "<table border=\"1\" class=\"dataframe\">\n",
              "  <thead>\n",
              "    <tr style=\"text-align: right;\">\n",
              "      <th></th>\n",
              "      <th>S NO</th>\n",
              "      <th>APPLICATION NUMBER</th>\n",
              "      <th>NAME OF THE CANDIDATE</th>\n",
              "      <th>AGGREGATE MARK</th>\n",
              "      <th>RANK</th>\n",
              "      <th>COMMUNITY</th>\n",
              "      <th>COLLEGE CODE</th>\n",
              "      <th>BRANCH CODE</th>\n",
              "      <th>ALLOTTED CATEGORY</th>\n",
              "      <th>ROUND</th>\n",
              "    </tr>\n",
              "  </thead>\n",
              "  <tbody>\n",
              "    <tr>\n",
              "      <th>0</th>\n",
              "      <td>1</td>\n",
              "      <td>312150</td>\n",
              "      <td>CHANDINI D</td>\n",
              "      <td>193.900</td>\n",
              "      <td>2122</td>\n",
              "      <td>BC</td>\n",
              "      <td>2751</td>\n",
              "      <td>IT</td>\n",
              "      <td>BC</td>\n",
              "      <td>3</td>\n",
              "    </tr>\n",
              "    <tr>\n",
              "      <th>1</th>\n",
              "      <td>2</td>\n",
              "      <td>215831</td>\n",
              "      <td>KANIHA.K</td>\n",
              "      <td>193.185</td>\n",
              "      <td>2612</td>\n",
              "      <td>BC</td>\n",
              "      <td>4024</td>\n",
              "      <td>EC</td>\n",
              "      <td>BC</td>\n",
              "      <td>3</td>\n",
              "    </tr>\n",
              "    <tr>\n",
              "      <th>2</th>\n",
              "      <td>3</td>\n",
              "      <td>351148</td>\n",
              "      <td>ABDULLAH THOAHA YASEEN Y</td>\n",
              "      <td>192.500</td>\n",
              "      <td>3516</td>\n",
              "      <td>BCM</td>\n",
              "      <td>1422</td>\n",
              "      <td>EC</td>\n",
              "      <td>BCM</td>\n",
              "      <td>3</td>\n",
              "    </tr>\n",
              "    <tr>\n",
              "      <th>3</th>\n",
              "      <td>4</td>\n",
              "      <td>299636</td>\n",
              "      <td>SANGEETHA R</td>\n",
              "      <td>192.110</td>\n",
              "      <td>3814</td>\n",
              "      <td>BC</td>\n",
              "      <td>4678</td>\n",
              "      <td>EC</td>\n",
              "      <td>BC</td>\n",
              "      <td>3</td>\n",
              "    </tr>\n",
              "    <tr>\n",
              "      <th>4</th>\n",
              "      <td>5</td>\n",
              "      <td>240841</td>\n",
              "      <td>JANAGAN A</td>\n",
              "      <td>190.395</td>\n",
              "      <td>6493</td>\n",
              "      <td>MBCV</td>\n",
              "      <td>2708</td>\n",
              "      <td>CS</td>\n",
              "      <td>MBCV</td>\n",
              "      <td>3</td>\n",
              "    </tr>\n",
              "  </tbody>\n",
              "</table>\n",
              "</div>\n",
              "      <button class=\"colab-df-convert\" onclick=\"convertToInteractive('df-f663a95d-4bfc-403d-b93d-18346e3c04d5')\"\n",
              "              title=\"Convert this dataframe to an interactive table.\"\n",
              "              style=\"display:none;\">\n",
              "        \n",
              "  <svg xmlns=\"http://www.w3.org/2000/svg\" height=\"24px\"viewBox=\"0 0 24 24\"\n",
              "       width=\"24px\">\n",
              "    <path d=\"M0 0h24v24H0V0z\" fill=\"none\"/>\n",
              "    <path d=\"M18.56 5.44l.94 2.06.94-2.06 2.06-.94-2.06-.94-.94-2.06-.94 2.06-2.06.94zm-11 1L8.5 8.5l.94-2.06 2.06-.94-2.06-.94L8.5 2.5l-.94 2.06-2.06.94zm10 10l.94 2.06.94-2.06 2.06-.94-2.06-.94-.94-2.06-.94 2.06-2.06.94z\"/><path d=\"M17.41 7.96l-1.37-1.37c-.4-.4-.92-.59-1.43-.59-.52 0-1.04.2-1.43.59L10.3 9.45l-7.72 7.72c-.78.78-.78 2.05 0 2.83L4 21.41c.39.39.9.59 1.41.59.51 0 1.02-.2 1.41-.59l7.78-7.78 2.81-2.81c.8-.78.8-2.07 0-2.86zM5.41 20L4 18.59l7.72-7.72 1.47 1.35L5.41 20z\"/>\n",
              "  </svg>\n",
              "      </button>\n",
              "      \n",
              "  <style>\n",
              "    .colab-df-container {\n",
              "      display:flex;\n",
              "      flex-wrap:wrap;\n",
              "      gap: 12px;\n",
              "    }\n",
              "\n",
              "    .colab-df-convert {\n",
              "      background-color: #E8F0FE;\n",
              "      border: none;\n",
              "      border-radius: 50%;\n",
              "      cursor: pointer;\n",
              "      display: none;\n",
              "      fill: #1967D2;\n",
              "      height: 32px;\n",
              "      padding: 0 0 0 0;\n",
              "      width: 32px;\n",
              "    }\n",
              "\n",
              "    .colab-df-convert:hover {\n",
              "      background-color: #E2EBFA;\n",
              "      box-shadow: 0px 1px 2px rgba(60, 64, 67, 0.3), 0px 1px 3px 1px rgba(60, 64, 67, 0.15);\n",
              "      fill: #174EA6;\n",
              "    }\n",
              "\n",
              "    [theme=dark] .colab-df-convert {\n",
              "      background-color: #3B4455;\n",
              "      fill: #D2E3FC;\n",
              "    }\n",
              "\n",
              "    [theme=dark] .colab-df-convert:hover {\n",
              "      background-color: #434B5C;\n",
              "      box-shadow: 0px 1px 3px 1px rgba(0, 0, 0, 0.15);\n",
              "      filter: drop-shadow(0px 1px 2px rgba(0, 0, 0, 0.3));\n",
              "      fill: #FFFFFF;\n",
              "    }\n",
              "  </style>\n",
              "\n",
              "      <script>\n",
              "        const buttonEl =\n",
              "          document.querySelector('#df-f663a95d-4bfc-403d-b93d-18346e3c04d5 button.colab-df-convert');\n",
              "        buttonEl.style.display =\n",
              "          google.colab.kernel.accessAllowed ? 'block' : 'none';\n",
              "\n",
              "        async function convertToInteractive(key) {\n",
              "          const element = document.querySelector('#df-f663a95d-4bfc-403d-b93d-18346e3c04d5');\n",
              "          const dataTable =\n",
              "            await google.colab.kernel.invokeFunction('convertToInteractive',\n",
              "                                                     [key], {});\n",
              "          if (!dataTable) return;\n",
              "\n",
              "          const docLinkHtml = 'Like what you see? Visit the ' +\n",
              "            '<a target=\"_blank\" href=https://colab.research.google.com/notebooks/data_table.ipynb>data table notebook</a>'\n",
              "            + ' to learn more about interactive tables.';\n",
              "          element.innerHTML = '';\n",
              "          dataTable['output_type'] = 'display_data';\n",
              "          await google.colab.output.renderOutput(dataTable, element);\n",
              "          const docLink = document.createElement('div');\n",
              "          docLink.innerHTML = docLinkHtml;\n",
              "          element.appendChild(docLink);\n",
              "        }\n",
              "      </script>\n",
              "    </div>\n",
              "  </div>\n",
              "  "
            ]
          },
          "metadata": {},
          "execution_count": 362
        }
      ],
      "source": [
        "df3.head()"
      ]
    },
    {
      "cell_type": "code",
      "execution_count": 363,
      "metadata": {
        "colab": {
          "base_uri": "https://localhost:8080/",
          "height": 267
        },
        "id": "9dtj1mDcNsMb",
        "outputId": "a80a537f-4b71-4f54-9c64-d228203597ab"
      },
      "outputs": [
        {
          "output_type": "execute_result",
          "data": {
            "text/plain": [
              "   S NO  APPLICATION NUMBER NAME OF THE CANDIDATE  AGGREGATE MARK   RANK  \\\n",
              "0     1              209679              HARISH K          188.91   9322   \n",
              "1     2              212066       SANJIV KANNAA J          188.50  10002   \n",
              "2     3              351955    A LINIYA DHAYALINI          186.50  13624   \n",
              "3     4              370640          KALAIVANAN K          185.50  15679   \n",
              "4     5              359595             ARAVIND I          185.32  16123   \n",
              "\n",
              "  COMMUNITY  COLLEGE CODE BRANCH CODE ALLOTTED CATEGORY  ROUND  \n",
              "0      MBCV          1520          CS              MBCV      4  \n",
              "1        SC          1140          CS                SC      4  \n",
              "2        BC          1427          EC                OC      4  \n",
              "3        BC          1325          ME                OC      4  \n",
              "4      MBCV          1412          CS              MBCV      4  "
            ],
            "text/html": [
              "\n",
              "  <div id=\"df-3ae26845-18c3-49ed-88a9-38c42d788060\">\n",
              "    <div class=\"colab-df-container\">\n",
              "      <div>\n",
              "<style scoped>\n",
              "    .dataframe tbody tr th:only-of-type {\n",
              "        vertical-align: middle;\n",
              "    }\n",
              "\n",
              "    .dataframe tbody tr th {\n",
              "        vertical-align: top;\n",
              "    }\n",
              "\n",
              "    .dataframe thead th {\n",
              "        text-align: right;\n",
              "    }\n",
              "</style>\n",
              "<table border=\"1\" class=\"dataframe\">\n",
              "  <thead>\n",
              "    <tr style=\"text-align: right;\">\n",
              "      <th></th>\n",
              "      <th>S NO</th>\n",
              "      <th>APPLICATION NUMBER</th>\n",
              "      <th>NAME OF THE CANDIDATE</th>\n",
              "      <th>AGGREGATE MARK</th>\n",
              "      <th>RANK</th>\n",
              "      <th>COMMUNITY</th>\n",
              "      <th>COLLEGE CODE</th>\n",
              "      <th>BRANCH CODE</th>\n",
              "      <th>ALLOTTED CATEGORY</th>\n",
              "      <th>ROUND</th>\n",
              "    </tr>\n",
              "  </thead>\n",
              "  <tbody>\n",
              "    <tr>\n",
              "      <th>0</th>\n",
              "      <td>1</td>\n",
              "      <td>209679</td>\n",
              "      <td>HARISH K</td>\n",
              "      <td>188.91</td>\n",
              "      <td>9322</td>\n",
              "      <td>MBCV</td>\n",
              "      <td>1520</td>\n",
              "      <td>CS</td>\n",
              "      <td>MBCV</td>\n",
              "      <td>4</td>\n",
              "    </tr>\n",
              "    <tr>\n",
              "      <th>1</th>\n",
              "      <td>2</td>\n",
              "      <td>212066</td>\n",
              "      <td>SANJIV KANNAA J</td>\n",
              "      <td>188.50</td>\n",
              "      <td>10002</td>\n",
              "      <td>SC</td>\n",
              "      <td>1140</td>\n",
              "      <td>CS</td>\n",
              "      <td>SC</td>\n",
              "      <td>4</td>\n",
              "    </tr>\n",
              "    <tr>\n",
              "      <th>2</th>\n",
              "      <td>3</td>\n",
              "      <td>351955</td>\n",
              "      <td>A LINIYA DHAYALINI</td>\n",
              "      <td>186.50</td>\n",
              "      <td>13624</td>\n",
              "      <td>BC</td>\n",
              "      <td>1427</td>\n",
              "      <td>EC</td>\n",
              "      <td>OC</td>\n",
              "      <td>4</td>\n",
              "    </tr>\n",
              "    <tr>\n",
              "      <th>3</th>\n",
              "      <td>4</td>\n",
              "      <td>370640</td>\n",
              "      <td>KALAIVANAN K</td>\n",
              "      <td>185.50</td>\n",
              "      <td>15679</td>\n",
              "      <td>BC</td>\n",
              "      <td>1325</td>\n",
              "      <td>ME</td>\n",
              "      <td>OC</td>\n",
              "      <td>4</td>\n",
              "    </tr>\n",
              "    <tr>\n",
              "      <th>4</th>\n",
              "      <td>5</td>\n",
              "      <td>359595</td>\n",
              "      <td>ARAVIND I</td>\n",
              "      <td>185.32</td>\n",
              "      <td>16123</td>\n",
              "      <td>MBCV</td>\n",
              "      <td>1412</td>\n",
              "      <td>CS</td>\n",
              "      <td>MBCV</td>\n",
              "      <td>4</td>\n",
              "    </tr>\n",
              "  </tbody>\n",
              "</table>\n",
              "</div>\n",
              "      <button class=\"colab-df-convert\" onclick=\"convertToInteractive('df-3ae26845-18c3-49ed-88a9-38c42d788060')\"\n",
              "              title=\"Convert this dataframe to an interactive table.\"\n",
              "              style=\"display:none;\">\n",
              "        \n",
              "  <svg xmlns=\"http://www.w3.org/2000/svg\" height=\"24px\"viewBox=\"0 0 24 24\"\n",
              "       width=\"24px\">\n",
              "    <path d=\"M0 0h24v24H0V0z\" fill=\"none\"/>\n",
              "    <path d=\"M18.56 5.44l.94 2.06.94-2.06 2.06-.94-2.06-.94-.94-2.06-.94 2.06-2.06.94zm-11 1L8.5 8.5l.94-2.06 2.06-.94-2.06-.94L8.5 2.5l-.94 2.06-2.06.94zm10 10l.94 2.06.94-2.06 2.06-.94-2.06-.94-.94-2.06-.94 2.06-2.06.94z\"/><path d=\"M17.41 7.96l-1.37-1.37c-.4-.4-.92-.59-1.43-.59-.52 0-1.04.2-1.43.59L10.3 9.45l-7.72 7.72c-.78.78-.78 2.05 0 2.83L4 21.41c.39.39.9.59 1.41.59.51 0 1.02-.2 1.41-.59l7.78-7.78 2.81-2.81c.8-.78.8-2.07 0-2.86zM5.41 20L4 18.59l7.72-7.72 1.47 1.35L5.41 20z\"/>\n",
              "  </svg>\n",
              "      </button>\n",
              "      \n",
              "  <style>\n",
              "    .colab-df-container {\n",
              "      display:flex;\n",
              "      flex-wrap:wrap;\n",
              "      gap: 12px;\n",
              "    }\n",
              "\n",
              "    .colab-df-convert {\n",
              "      background-color: #E8F0FE;\n",
              "      border: none;\n",
              "      border-radius: 50%;\n",
              "      cursor: pointer;\n",
              "      display: none;\n",
              "      fill: #1967D2;\n",
              "      height: 32px;\n",
              "      padding: 0 0 0 0;\n",
              "      width: 32px;\n",
              "    }\n",
              "\n",
              "    .colab-df-convert:hover {\n",
              "      background-color: #E2EBFA;\n",
              "      box-shadow: 0px 1px 2px rgba(60, 64, 67, 0.3), 0px 1px 3px 1px rgba(60, 64, 67, 0.15);\n",
              "      fill: #174EA6;\n",
              "    }\n",
              "\n",
              "    [theme=dark] .colab-df-convert {\n",
              "      background-color: #3B4455;\n",
              "      fill: #D2E3FC;\n",
              "    }\n",
              "\n",
              "    [theme=dark] .colab-df-convert:hover {\n",
              "      background-color: #434B5C;\n",
              "      box-shadow: 0px 1px 3px 1px rgba(0, 0, 0, 0.15);\n",
              "      filter: drop-shadow(0px 1px 2px rgba(0, 0, 0, 0.3));\n",
              "      fill: #FFFFFF;\n",
              "    }\n",
              "  </style>\n",
              "\n",
              "      <script>\n",
              "        const buttonEl =\n",
              "          document.querySelector('#df-3ae26845-18c3-49ed-88a9-38c42d788060 button.colab-df-convert');\n",
              "        buttonEl.style.display =\n",
              "          google.colab.kernel.accessAllowed ? 'block' : 'none';\n",
              "\n",
              "        async function convertToInteractive(key) {\n",
              "          const element = document.querySelector('#df-3ae26845-18c3-49ed-88a9-38c42d788060');\n",
              "          const dataTable =\n",
              "            await google.colab.kernel.invokeFunction('convertToInteractive',\n",
              "                                                     [key], {});\n",
              "          if (!dataTable) return;\n",
              "\n",
              "          const docLinkHtml = 'Like what you see? Visit the ' +\n",
              "            '<a target=\"_blank\" href=https://colab.research.google.com/notebooks/data_table.ipynb>data table notebook</a>'\n",
              "            + ' to learn more about interactive tables.';\n",
              "          element.innerHTML = '';\n",
              "          dataTable['output_type'] = 'display_data';\n",
              "          await google.colab.output.renderOutput(dataTable, element);\n",
              "          const docLink = document.createElement('div');\n",
              "          docLink.innerHTML = docLinkHtml;\n",
              "          element.appendChild(docLink);\n",
              "        }\n",
              "      </script>\n",
              "    </div>\n",
              "  </div>\n",
              "  "
            ]
          },
          "metadata": {},
          "execution_count": 363
        }
      ],
      "source": [
        "df4.head()"
      ]
    },
    {
      "cell_type": "markdown",
      "metadata": {
        "id": "JTjKv0Zz2_BM"
      },
      "source": [
        "## 4. Merging 4 dataframes into 1"
      ]
    },
    {
      "cell_type": "code",
      "execution_count": 364,
      "metadata": {
        "colab": {
          "base_uri": "https://localhost:8080/"
        },
        "id": "HoqxocV7M8jD",
        "outputId": "f58f4e7c-b27e-47a3-a7dc-0affb2052a0f"
      },
      "outputs": [
        {
          "output_type": "stream",
          "name": "stdout",
          "text": [
            "<class 'pandas.core.frame.DataFrame'>\n",
            "RangeIndex: 80068 entries, 0 to 80067\n",
            "Data columns (total 10 columns):\n",
            " #   Column                 Non-Null Count  Dtype  \n",
            "---  ------                 --------------  -----  \n",
            " 0   S NO                   80068 non-null  int64  \n",
            " 1   APPLICATION NUMBER     80068 non-null  int64  \n",
            " 2   NAME OF THE CANDIDATE  80068 non-null  object \n",
            " 3   AGGREGATE MARK         80068 non-null  float64\n",
            " 4   RANK                   80068 non-null  int64  \n",
            " 5   COMMUNITY              80068 non-null  object \n",
            " 6   COLLEGE CODE           80068 non-null  int64  \n",
            " 7   BRANCH CODE            80068 non-null  object \n",
            " 8   ALLOTTED CATEGORY      80068 non-null  object \n",
            " 9   ROUND                  80068 non-null  int64  \n",
            "dtypes: float64(1), int64(5), object(4)\n",
            "memory usage: 6.1+ MB\n"
          ]
        }
      ],
      "source": [
        "df = pd.concat([df1, df2, df3, df4],ignore_index =True)\n",
        "df.info()"
      ]
    },
    {
      "cell_type": "markdown",
      "metadata": {
        "id": "3EISjrhp3DqQ"
      },
      "source": [
        "## 5. Dropping unnecessary columns"
      ]
    },
    {
      "cell_type": "code",
      "execution_count": 365,
      "metadata": {
        "colab": {
          "base_uri": "https://localhost:8080/",
          "height": 206
        },
        "id": "fHNSLlGkNWKn",
        "outputId": "be92dbf3-6e02-4669-b12b-237fddc2dfc9"
      },
      "outputs": [
        {
          "output_type": "execute_result",
          "data": {
            "text/plain": [
              "   AGGREGATE MARK  RANK COMMUNITY  COLLEGE CODE BRANCH CODE ALLOTTED CATEGORY  \\\n",
              "0           200.0     1      MBCV             1          CS                OC   \n",
              "1           200.0     3        BC             1          CS                OC   \n",
              "2           200.0     6        OC             1          EC                OC   \n",
              "3           200.0     7        BC          2006          CM                OC   \n",
              "4           200.0     8        BC             1          CS                OC   \n",
              "\n",
              "   ROUND  \n",
              "0      1  \n",
              "1      1  \n",
              "2      1  \n",
              "3      1  \n",
              "4      1  "
            ],
            "text/html": [
              "\n",
              "  <div id=\"df-6cf7ca4e-dfe4-46e0-8013-688d32b245a0\">\n",
              "    <div class=\"colab-df-container\">\n",
              "      <div>\n",
              "<style scoped>\n",
              "    .dataframe tbody tr th:only-of-type {\n",
              "        vertical-align: middle;\n",
              "    }\n",
              "\n",
              "    .dataframe tbody tr th {\n",
              "        vertical-align: top;\n",
              "    }\n",
              "\n",
              "    .dataframe thead th {\n",
              "        text-align: right;\n",
              "    }\n",
              "</style>\n",
              "<table border=\"1\" class=\"dataframe\">\n",
              "  <thead>\n",
              "    <tr style=\"text-align: right;\">\n",
              "      <th></th>\n",
              "      <th>AGGREGATE MARK</th>\n",
              "      <th>RANK</th>\n",
              "      <th>COMMUNITY</th>\n",
              "      <th>COLLEGE CODE</th>\n",
              "      <th>BRANCH CODE</th>\n",
              "      <th>ALLOTTED CATEGORY</th>\n",
              "      <th>ROUND</th>\n",
              "    </tr>\n",
              "  </thead>\n",
              "  <tbody>\n",
              "    <tr>\n",
              "      <th>0</th>\n",
              "      <td>200.0</td>\n",
              "      <td>1</td>\n",
              "      <td>MBCV</td>\n",
              "      <td>1</td>\n",
              "      <td>CS</td>\n",
              "      <td>OC</td>\n",
              "      <td>1</td>\n",
              "    </tr>\n",
              "    <tr>\n",
              "      <th>1</th>\n",
              "      <td>200.0</td>\n",
              "      <td>3</td>\n",
              "      <td>BC</td>\n",
              "      <td>1</td>\n",
              "      <td>CS</td>\n",
              "      <td>OC</td>\n",
              "      <td>1</td>\n",
              "    </tr>\n",
              "    <tr>\n",
              "      <th>2</th>\n",
              "      <td>200.0</td>\n",
              "      <td>6</td>\n",
              "      <td>OC</td>\n",
              "      <td>1</td>\n",
              "      <td>EC</td>\n",
              "      <td>OC</td>\n",
              "      <td>1</td>\n",
              "    </tr>\n",
              "    <tr>\n",
              "      <th>3</th>\n",
              "      <td>200.0</td>\n",
              "      <td>7</td>\n",
              "      <td>BC</td>\n",
              "      <td>2006</td>\n",
              "      <td>CM</td>\n",
              "      <td>OC</td>\n",
              "      <td>1</td>\n",
              "    </tr>\n",
              "    <tr>\n",
              "      <th>4</th>\n",
              "      <td>200.0</td>\n",
              "      <td>8</td>\n",
              "      <td>BC</td>\n",
              "      <td>1</td>\n",
              "      <td>CS</td>\n",
              "      <td>OC</td>\n",
              "      <td>1</td>\n",
              "    </tr>\n",
              "  </tbody>\n",
              "</table>\n",
              "</div>\n",
              "      <button class=\"colab-df-convert\" onclick=\"convertToInteractive('df-6cf7ca4e-dfe4-46e0-8013-688d32b245a0')\"\n",
              "              title=\"Convert this dataframe to an interactive table.\"\n",
              "              style=\"display:none;\">\n",
              "        \n",
              "  <svg xmlns=\"http://www.w3.org/2000/svg\" height=\"24px\"viewBox=\"0 0 24 24\"\n",
              "       width=\"24px\">\n",
              "    <path d=\"M0 0h24v24H0V0z\" fill=\"none\"/>\n",
              "    <path d=\"M18.56 5.44l.94 2.06.94-2.06 2.06-.94-2.06-.94-.94-2.06-.94 2.06-2.06.94zm-11 1L8.5 8.5l.94-2.06 2.06-.94-2.06-.94L8.5 2.5l-.94 2.06-2.06.94zm10 10l.94 2.06.94-2.06 2.06-.94-2.06-.94-.94-2.06-.94 2.06-2.06.94z\"/><path d=\"M17.41 7.96l-1.37-1.37c-.4-.4-.92-.59-1.43-.59-.52 0-1.04.2-1.43.59L10.3 9.45l-7.72 7.72c-.78.78-.78 2.05 0 2.83L4 21.41c.39.39.9.59 1.41.59.51 0 1.02-.2 1.41-.59l7.78-7.78 2.81-2.81c.8-.78.8-2.07 0-2.86zM5.41 20L4 18.59l7.72-7.72 1.47 1.35L5.41 20z\"/>\n",
              "  </svg>\n",
              "      </button>\n",
              "      \n",
              "  <style>\n",
              "    .colab-df-container {\n",
              "      display:flex;\n",
              "      flex-wrap:wrap;\n",
              "      gap: 12px;\n",
              "    }\n",
              "\n",
              "    .colab-df-convert {\n",
              "      background-color: #E8F0FE;\n",
              "      border: none;\n",
              "      border-radius: 50%;\n",
              "      cursor: pointer;\n",
              "      display: none;\n",
              "      fill: #1967D2;\n",
              "      height: 32px;\n",
              "      padding: 0 0 0 0;\n",
              "      width: 32px;\n",
              "    }\n",
              "\n",
              "    .colab-df-convert:hover {\n",
              "      background-color: #E2EBFA;\n",
              "      box-shadow: 0px 1px 2px rgba(60, 64, 67, 0.3), 0px 1px 3px 1px rgba(60, 64, 67, 0.15);\n",
              "      fill: #174EA6;\n",
              "    }\n",
              "\n",
              "    [theme=dark] .colab-df-convert {\n",
              "      background-color: #3B4455;\n",
              "      fill: #D2E3FC;\n",
              "    }\n",
              "\n",
              "    [theme=dark] .colab-df-convert:hover {\n",
              "      background-color: #434B5C;\n",
              "      box-shadow: 0px 1px 3px 1px rgba(0, 0, 0, 0.15);\n",
              "      filter: drop-shadow(0px 1px 2px rgba(0, 0, 0, 0.3));\n",
              "      fill: #FFFFFF;\n",
              "    }\n",
              "  </style>\n",
              "\n",
              "      <script>\n",
              "        const buttonEl =\n",
              "          document.querySelector('#df-6cf7ca4e-dfe4-46e0-8013-688d32b245a0 button.colab-df-convert');\n",
              "        buttonEl.style.display =\n",
              "          google.colab.kernel.accessAllowed ? 'block' : 'none';\n",
              "\n",
              "        async function convertToInteractive(key) {\n",
              "          const element = document.querySelector('#df-6cf7ca4e-dfe4-46e0-8013-688d32b245a0');\n",
              "          const dataTable =\n",
              "            await google.colab.kernel.invokeFunction('convertToInteractive',\n",
              "                                                     [key], {});\n",
              "          if (!dataTable) return;\n",
              "\n",
              "          const docLinkHtml = 'Like what you see? Visit the ' +\n",
              "            '<a target=\"_blank\" href=https://colab.research.google.com/notebooks/data_table.ipynb>data table notebook</a>'\n",
              "            + ' to learn more about interactive tables.';\n",
              "          element.innerHTML = '';\n",
              "          dataTable['output_type'] = 'display_data';\n",
              "          await google.colab.output.renderOutput(dataTable, element);\n",
              "          const docLink = document.createElement('div');\n",
              "          docLink.innerHTML = docLinkHtml;\n",
              "          element.appendChild(docLink);\n",
              "        }\n",
              "      </script>\n",
              "    </div>\n",
              "  </div>\n",
              "  "
            ]
          },
          "metadata": {},
          "execution_count": 365
        }
      ],
      "source": [
        "df = df.drop([\"S NO\",\"APPLICATION NUMBER\",\"NAME OF THE CANDIDATE\"] , axis=1)\n",
        "df.head()"
      ]
    },
    {
      "cell_type": "markdown",
      "metadata": {
        "id": "9AudD74o25Qh"
      },
      "source": [
        "## 6. Renaming Column Names"
      ]
    },
    {
      "cell_type": "code",
      "execution_count": 366,
      "metadata": {
        "id": "eVvWsGT78mDZ"
      },
      "outputs": [],
      "source": [
        "df.rename(columns = {'AGGREGATE MARK':'AGGREGATE_MARK','COLLEGE CODE':'COLLEGE_CODE','BRANCH CODE':'BRANCH_CODE','ALLOTTED CATEGORY':'ALLOTTED_CATEGORY'}, inplace = True)"
      ]
    },
    {
      "cell_type": "markdown",
      "metadata": {
        "id": "I6Jq9ZD73PXg"
      },
      "source": [
        "## 7. Checking for Null Values"
      ]
    },
    {
      "cell_type": "code",
      "execution_count": 367,
      "metadata": {
        "colab": {
          "base_uri": "https://localhost:8080/"
        },
        "id": "m5EbOwIc25Qh",
        "outputId": "dac1f151-d49a-4a89-9ed9-46d042843ea2"
      },
      "outputs": [
        {
          "output_type": "execute_result",
          "data": {
            "text/plain": [
              "AGGREGATE_MARK       0\n",
              "RANK                 0\n",
              "COMMUNITY            0\n",
              "COLLEGE_CODE         0\n",
              "BRANCH_CODE          0\n",
              "ALLOTTED_CATEGORY    0\n",
              "ROUND                0\n",
              "dtype: int64"
            ]
          },
          "metadata": {},
          "execution_count": 367
        }
      ],
      "source": [
        "df.isnull().sum()"
      ]
    },
    {
      "cell_type": "code",
      "execution_count": 368,
      "metadata": {
        "colab": {
          "base_uri": "https://localhost:8080/",
          "height": 206
        },
        "id": "P6QjZzM91rqZ",
        "outputId": "1645e956-b945-485a-aa6e-98b88bebe3a6"
      },
      "outputs": [
        {
          "output_type": "execute_result",
          "data": {
            "text/plain": [
              "   AGGREGATE_MARK  RANK COMMUNITY COLLEGE_CODE BRANCH_CODE ALLOTTED_CATEGORY  \\\n",
              "0           200.0     1      MBCV            1          CS                OC   \n",
              "1           200.0     3        BC            1          CS                OC   \n",
              "2           200.0     6        OC            1          EC                OC   \n",
              "3           200.0     7        BC         2006          CM                OC   \n",
              "4           200.0     8        BC            1          CS                OC   \n",
              "\n",
              "   ROUND  \n",
              "0      1  \n",
              "1      1  \n",
              "2      1  \n",
              "3      1  \n",
              "4      1  "
            ],
            "text/html": [
              "\n",
              "  <div id=\"df-532a4b91-ed7c-4883-8dea-0b401f091b8f\">\n",
              "    <div class=\"colab-df-container\">\n",
              "      <div>\n",
              "<style scoped>\n",
              "    .dataframe tbody tr th:only-of-type {\n",
              "        vertical-align: middle;\n",
              "    }\n",
              "\n",
              "    .dataframe tbody tr th {\n",
              "        vertical-align: top;\n",
              "    }\n",
              "\n",
              "    .dataframe thead th {\n",
              "        text-align: right;\n",
              "    }\n",
              "</style>\n",
              "<table border=\"1\" class=\"dataframe\">\n",
              "  <thead>\n",
              "    <tr style=\"text-align: right;\">\n",
              "      <th></th>\n",
              "      <th>AGGREGATE_MARK</th>\n",
              "      <th>RANK</th>\n",
              "      <th>COMMUNITY</th>\n",
              "      <th>COLLEGE_CODE</th>\n",
              "      <th>BRANCH_CODE</th>\n",
              "      <th>ALLOTTED_CATEGORY</th>\n",
              "      <th>ROUND</th>\n",
              "    </tr>\n",
              "  </thead>\n",
              "  <tbody>\n",
              "    <tr>\n",
              "      <th>0</th>\n",
              "      <td>200.0</td>\n",
              "      <td>1</td>\n",
              "      <td>MBCV</td>\n",
              "      <td>1</td>\n",
              "      <td>CS</td>\n",
              "      <td>OC</td>\n",
              "      <td>1</td>\n",
              "    </tr>\n",
              "    <tr>\n",
              "      <th>1</th>\n",
              "      <td>200.0</td>\n",
              "      <td>3</td>\n",
              "      <td>BC</td>\n",
              "      <td>1</td>\n",
              "      <td>CS</td>\n",
              "      <td>OC</td>\n",
              "      <td>1</td>\n",
              "    </tr>\n",
              "    <tr>\n",
              "      <th>2</th>\n",
              "      <td>200.0</td>\n",
              "      <td>6</td>\n",
              "      <td>OC</td>\n",
              "      <td>1</td>\n",
              "      <td>EC</td>\n",
              "      <td>OC</td>\n",
              "      <td>1</td>\n",
              "    </tr>\n",
              "    <tr>\n",
              "      <th>3</th>\n",
              "      <td>200.0</td>\n",
              "      <td>7</td>\n",
              "      <td>BC</td>\n",
              "      <td>2006</td>\n",
              "      <td>CM</td>\n",
              "      <td>OC</td>\n",
              "      <td>1</td>\n",
              "    </tr>\n",
              "    <tr>\n",
              "      <th>4</th>\n",
              "      <td>200.0</td>\n",
              "      <td>8</td>\n",
              "      <td>BC</td>\n",
              "      <td>1</td>\n",
              "      <td>CS</td>\n",
              "      <td>OC</td>\n",
              "      <td>1</td>\n",
              "    </tr>\n",
              "  </tbody>\n",
              "</table>\n",
              "</div>\n",
              "      <button class=\"colab-df-convert\" onclick=\"convertToInteractive('df-532a4b91-ed7c-4883-8dea-0b401f091b8f')\"\n",
              "              title=\"Convert this dataframe to an interactive table.\"\n",
              "              style=\"display:none;\">\n",
              "        \n",
              "  <svg xmlns=\"http://www.w3.org/2000/svg\" height=\"24px\"viewBox=\"0 0 24 24\"\n",
              "       width=\"24px\">\n",
              "    <path d=\"M0 0h24v24H0V0z\" fill=\"none\"/>\n",
              "    <path d=\"M18.56 5.44l.94 2.06.94-2.06 2.06-.94-2.06-.94-.94-2.06-.94 2.06-2.06.94zm-11 1L8.5 8.5l.94-2.06 2.06-.94-2.06-.94L8.5 2.5l-.94 2.06-2.06.94zm10 10l.94 2.06.94-2.06 2.06-.94-2.06-.94-.94-2.06-.94 2.06-2.06.94z\"/><path d=\"M17.41 7.96l-1.37-1.37c-.4-.4-.92-.59-1.43-.59-.52 0-1.04.2-1.43.59L10.3 9.45l-7.72 7.72c-.78.78-.78 2.05 0 2.83L4 21.41c.39.39.9.59 1.41.59.51 0 1.02-.2 1.41-.59l7.78-7.78 2.81-2.81c.8-.78.8-2.07 0-2.86zM5.41 20L4 18.59l7.72-7.72 1.47 1.35L5.41 20z\"/>\n",
              "  </svg>\n",
              "      </button>\n",
              "      \n",
              "  <style>\n",
              "    .colab-df-container {\n",
              "      display:flex;\n",
              "      flex-wrap:wrap;\n",
              "      gap: 12px;\n",
              "    }\n",
              "\n",
              "    .colab-df-convert {\n",
              "      background-color: #E8F0FE;\n",
              "      border: none;\n",
              "      border-radius: 50%;\n",
              "      cursor: pointer;\n",
              "      display: none;\n",
              "      fill: #1967D2;\n",
              "      height: 32px;\n",
              "      padding: 0 0 0 0;\n",
              "      width: 32px;\n",
              "    }\n",
              "\n",
              "    .colab-df-convert:hover {\n",
              "      background-color: #E2EBFA;\n",
              "      box-shadow: 0px 1px 2px rgba(60, 64, 67, 0.3), 0px 1px 3px 1px rgba(60, 64, 67, 0.15);\n",
              "      fill: #174EA6;\n",
              "    }\n",
              "\n",
              "    [theme=dark] .colab-df-convert {\n",
              "      background-color: #3B4455;\n",
              "      fill: #D2E3FC;\n",
              "    }\n",
              "\n",
              "    [theme=dark] .colab-df-convert:hover {\n",
              "      background-color: #434B5C;\n",
              "      box-shadow: 0px 1px 3px 1px rgba(0, 0, 0, 0.15);\n",
              "      filter: drop-shadow(0px 1px 2px rgba(0, 0, 0, 0.3));\n",
              "      fill: #FFFFFF;\n",
              "    }\n",
              "  </style>\n",
              "\n",
              "      <script>\n",
              "        const buttonEl =\n",
              "          document.querySelector('#df-532a4b91-ed7c-4883-8dea-0b401f091b8f button.colab-df-convert');\n",
              "        buttonEl.style.display =\n",
              "          google.colab.kernel.accessAllowed ? 'block' : 'none';\n",
              "\n",
              "        async function convertToInteractive(key) {\n",
              "          const element = document.querySelector('#df-532a4b91-ed7c-4883-8dea-0b401f091b8f');\n",
              "          const dataTable =\n",
              "            await google.colab.kernel.invokeFunction('convertToInteractive',\n",
              "                                                     [key], {});\n",
              "          if (!dataTable) return;\n",
              "\n",
              "          const docLinkHtml = 'Like what you see? Visit the ' +\n",
              "            '<a target=\"_blank\" href=https://colab.research.google.com/notebooks/data_table.ipynb>data table notebook</a>'\n",
              "            + ' to learn more about interactive tables.';\n",
              "          element.innerHTML = '';\n",
              "          dataTable['output_type'] = 'display_data';\n",
              "          await google.colab.output.renderOutput(dataTable, element);\n",
              "          const docLink = document.createElement('div');\n",
              "          docLink.innerHTML = docLinkHtml;\n",
              "          element.appendChild(docLink);\n",
              "        }\n",
              "      </script>\n",
              "    </div>\n",
              "  </div>\n",
              "  "
            ]
          },
          "metadata": {},
          "execution_count": 368
        }
      ],
      "source": [
        "df['COLLEGE_CODE']= df['COLLEGE_CODE'].apply(str)\n",
        "df.head()"
      ]
    },
    {
      "cell_type": "code",
      "execution_count": 369,
      "metadata": {
        "colab": {
          "base_uri": "https://localhost:8080/"
        },
        "id": "9is5iuB497xp",
        "outputId": "a81547fe-3564-4a92-8ea1-a50478845472"
      },
      "outputs": [
        {
          "output_type": "stream",
          "name": "stdout",
          "text": [
            "<class 'pandas.core.frame.DataFrame'>\n",
            "RangeIndex: 80068 entries, 0 to 80067\n",
            "Data columns (total 7 columns):\n",
            " #   Column             Non-Null Count  Dtype  \n",
            "---  ------             --------------  -----  \n",
            " 0   AGGREGATE_MARK     80068 non-null  float64\n",
            " 1   RANK               80068 non-null  int64  \n",
            " 2   COMMUNITY          80068 non-null  object \n",
            " 3   COLLEGE_CODE       80068 non-null  object \n",
            " 4   BRANCH_CODE        80068 non-null  object \n",
            " 5   ALLOTTED_CATEGORY  80068 non-null  object \n",
            " 6   ROUND              80068 non-null  int64  \n",
            "dtypes: float64(1), int64(2), object(4)\n",
            "memory usage: 4.3+ MB\n"
          ]
        }
      ],
      "source": [
        "df.info()"
      ]
    },
    {
      "cell_type": "markdown",
      "metadata": {
        "id": "qI7_dv3s3gr6"
      },
      "source": [
        "## 8. Uni-Variate Visualization"
      ]
    },
    {
      "cell_type": "markdown",
      "metadata": {
        "id": "iQhG6fTd25Qi"
      },
      "source": [
        "### Histogram"
      ]
    },
    {
      "cell_type": "code",
      "execution_count": 370,
      "metadata": {
        "colab": {
          "base_uri": "https://localhost:8080/",
          "height": 280
        },
        "id": "WvH6LhB74EhB",
        "outputId": "d5bf1de2-2ba7-46a8-a3e5-5434d065cddb"
      },
      "outputs": [
        {
          "output_type": "display_data",
          "data": {
            "text/plain": [
              "<Figure size 432x288 with 1 Axes>"
            ],
            "image/png": "[encoded data removed]"
          },
          "metadata": {
            "needs_background": "light"
          }
        }
      ],
      "source": [
        "sns.histplot(df['AGGREGATE_MARK'])\n",
        "plt.show()"
      ]
    },
    {
      "cell_type": "markdown",
      "metadata": {
        "id": "SxvQSI1g4-OX"
      },
      "source": [
        "## 9. Bi-Variate Visualization"
      ]
    },
    {
      "cell_type": "markdown",
      "metadata": {
        "id": "vacObixb25Qi"
      },
      "source": [
        "### Scatter Plot"
      ]
    },
    {
      "cell_type": "code",
      "execution_count": 371,
      "metadata": {
        "colab": {
          "base_uri": "https://localhost:8080/",
          "height": 320
        },
        "id": "xV6HsOUD5iOz",
        "outputId": "1f25bc4d-2917-414b-d855-ef870fbc5e20"
      },
      "outputs": [
        {
          "output_type": "execute_result",
          "data": {
            "text/plain": [
              "<seaborn.axisgrid.PairGrid at 0x7fade0339710>"
            ]
          },
          "metadata": {},
          "execution_count": 371
        },
        {
          "output_type": "display_data",
          "data": {
            "text/plain": [
              "<Figure size 288x288 with 1 Axes>"
            ],
            "image/png": "[encoded data removed]"
          },
          "metadata": {
            "needs_background": "light"
          }
        }
      ],
      "source": [
        "sns.pairplot(df, x_vars='RANK', y_vars='ROUND', height=4, aspect=1, kind='scatter')"
      ]
    },
    {
      "cell_type": "code",
      "execution_count": 372,
      "metadata": {
        "colab": {
          "base_uri": "https://localhost:8080/",
          "height": 461
        },
        "id": "AGWmgnlE7YAQ",
        "outputId": "1c363656-5113-473f-d46b-df1844fbb43a"
      },
      "outputs": [
        {
          "output_type": "execute_result",
          "data": {
            "text/plain": [
              "<seaborn.axisgrid.PairGrid at 0x7fade04d4e90>"
            ]
          },
          "metadata": {},
          "execution_count": 372
        },
        {
          "output_type": "display_data",
          "data": {
            "text/plain": [
              "<Figure size 432x432 with 1 Axes>"
            ],
            "image/png": "[encoded data removed]"
          },
          "metadata": {
            "needs_background": "light"
          }
        }
      ],
      "source": [
        "sns.pairplot(df, x_vars='RANK', y_vars='AGGREGATE_MARK', height=6, aspect=1, kind='scatter')"
      ]
    },
    {
      "cell_type": "markdown",
      "metadata": {
        "id": "YOP0Jxia-Umk"
      },
      "source": [
        "## 10. Multi-Variate visualization"
      ]
    },
    {
      "cell_type": "code",
      "execution_count": 373,
      "metadata": {
        "colab": {
          "base_uri": "https://localhost:8080/",
          "height": 295
        },
        "id": "UBGIAPPB-MGq",
        "outputId": "e66924ae-b810-4082-b074-bcd2e88a5da7"
      },
      "outputs": [
        {
          "output_type": "execute_result",
          "data": {
            "text/plain": [
              "<matplotlib.axes._subplots.AxesSubplot at 0x7fade03b1690>"
            ]
          },
          "metadata": {},
          "execution_count": 373
        },
        {
          "output_type": "display_data",
          "data": {
            "text/plain": [
              "<Figure size 432x288 with 2 Axes>"
            ],
            "image/png": "[encoded data removed]"
          },
          "metadata": {
            "needs_background": "light"
          }
        }
      ],
      "source": [
        "sns.heatmap(df.corr(), cmap=\"YlGnBu\", annot = True)"
      ]
    },
    {
      "cell_type": "markdown",
      "metadata": {
        "id": "aFjh8yhAzQEy"
      },
      "source": [
        "## 11. Shuffling of rows"
      ]
    },
    {
      "cell_type": "code",
      "execution_count": 374,
      "metadata": {
        "colab": {
          "base_uri": "https://localhost:8080/",
          "height": 206
        },
        "id": "QZATkgpJykTy",
        "outputId": "cef5f421-0145-44ca-f2b7-e4e45b7dbe11"
      },
      "outputs": [
        {
          "output_type": "execute_result",
          "data": {
            "text/plain": [
              "       AGGREGATE_MARK   RANK COMMUNITY COLLEGE_CODE BRANCH_CODE  \\\n",
              "31150         175.725  40218        BC         1516          ME   \n",
              "22736         178.330  33003        BC         2718          CE   \n",
              "18751         180.625  26996       MBC         4917          CS   \n",
              "54404         166.330  67893        SC         5990          EC   \n",
              "29052         174.755  42959        BC         2749          CS   \n",
              "\n",
              "      ALLOTTED_CATEGORY  ROUND  \n",
              "31150                OC      3  \n",
              "22736                BC      2  \n",
              "18751                OC      2  \n",
              "54404                OC      4  \n",
              "29052                OC      2  "
            ],
            "text/html": [
              "\n",
              "  <div id=\"df-72a38eaa-3dae-4f29-9538-86a295d843fa\">\n",
              "    <div class=\"colab-df-container\">\n",
              "      <div>\n",
              "<style scoped>\n",
              "    .dataframe tbody tr th:only-of-type {\n",
              "        vertical-align: middle;\n",
              "    }\n",
              "\n",
              "    .dataframe tbody tr th {\n",
              "        vertical-align: top;\n",
              "    }\n",
              "\n",
              "    .dataframe thead th {\n",
              "        text-align: right;\n",
              "    }\n",
              "</style>\n",
              "<table border=\"1\" class=\"dataframe\">\n",
              "  <thead>\n",
              "    <tr style=\"text-align: right;\">\n",
              "      <th></th>\n",
              "      <th>AGGREGATE_MARK</th>\n",
              "      <th>RANK</th>\n",
              "      <th>COMMUNITY</th>\n",
              "      <th>COLLEGE_CODE</th>\n",
              "      <th>BRANCH_CODE</th>\n",
              "      <th>ALLOTTED_CATEGORY</th>\n",
              "      <th>ROUND</th>\n",
              "    </tr>\n",
              "  </thead>\n",
              "  <tbody>\n",
              "    <tr>\n",
              "      <th>31150</th>\n",
              "      <td>175.725</td>\n",
              "      <td>40218</td>\n",
              "      <td>BC</td>\n",
              "      <td>1516</td>\n",
              "      <td>ME</td>\n",
              "      <td>OC</td>\n",
              "      <td>3</td>\n",
              "    </tr>\n",
              "    <tr>\n",
              "      <th>22736</th>\n",
              "      <td>178.330</td>\n",
              "      <td>33003</td>\n",
              "      <td>BC</td>\n",
              "      <td>2718</td>\n",
              "      <td>CE</td>\n",
              "      <td>BC</td>\n",
              "      <td>2</td>\n",
              "    </tr>\n",
              "    <tr>\n",
              "      <th>18751</th>\n",
              "      <td>180.625</td>\n",
              "      <td>26996</td>\n",
              "      <td>MBC</td>\n",
              "      <td>4917</td>\n",
              "      <td>CS</td>\n",
              "      <td>OC</td>\n",
              "      <td>2</td>\n",
              "    </tr>\n",
              "    <tr>\n",
              "      <th>54404</th>\n",
              "      <td>166.330</td>\n",
              "      <td>67893</td>\n",
              "      <td>SC</td>\n",
              "      <td>5990</td>\n",
              "      <td>EC</td>\n",
              "      <td>OC</td>\n",
              "      <td>4</td>\n",
              "    </tr>\n",
              "    <tr>\n",
              "      <th>29052</th>\n",
              "      <td>174.755</td>\n",
              "      <td>42959</td>\n",
              "      <td>BC</td>\n",
              "      <td>2749</td>\n",
              "      <td>CS</td>\n",
              "      <td>OC</td>\n",
              "      <td>2</td>\n",
              "    </tr>\n",
              "  </tbody>\n",
              "</table>\n",
              "</div>\n",
              "      <button class=\"colab-df-convert\" onclick=\"convertToInteractive('df-72a38eaa-3dae-4f29-9538-86a295d843fa')\"\n",
              "              title=\"Convert this dataframe to an interactive table.\"\n",
              "              style=\"display:none;\">\n",
              "        \n",
              "  <svg xmlns=\"http://www.w3.org/2000/svg\" height=\"24px\"viewBox=\"0 0 24 24\"\n",
              "       width=\"24px\">\n",
              "    <path d=\"M0 0h24v24H0V0z\" fill=\"none\"/>\n",
              "    <path d=\"M18.56 5.44l.94 2.06.94-2.06 2.06-.94-2.06-.94-.94-2.06-.94 2.06-2.06.94zm-11 1L8.5 8.5l.94-2.06 2.06-.94-2.06-.94L8.5 2.5l-.94 2.06-2.06.94zm10 10l.94 2.06.94-2.06 2.06-.94-2.06-.94-.94-2.06-.94 2.06-2.06.94z\"/><path d=\"M17.41 7.96l-1.37-1.37c-.4-.4-.92-.59-1.43-.59-.52 0-1.04.2-1.43.59L10.3 9.45l-7.72 7.72c-.78.78-.78 2.05 0 2.83L4 21.41c.39.39.9.59 1.41.59.51 0 1.02-.2 1.41-.59l7.78-7.78 2.81-2.81c.8-.78.8-2.07 0-2.86zM5.41 20L4 18.59l7.72-7.72 1.47 1.35L5.41 20z\"/>\n",
              "  </svg>\n",
              "      </button>\n",
              "      \n",
              "  <style>\n",
              "    .colab-df-container {\n",
              "      display:flex;\n",
              "      flex-wrap:wrap;\n",
              "      gap: 12px;\n",
              "    }\n",
              "\n",
              "    .colab-df-convert {\n",
              "      background-color: #E8F0FE;\n",
              "      border: none;\n",
              "      border-radius: 50%;\n",
              "      cursor: pointer;\n",
              "      display: none;\n",
              "      fill: #1967D2;\n",
              "      height: 32px;\n",
              "      padding: 0 0 0 0;\n",
              "      width: 32px;\n",
              "    }\n",
              "\n",
              "    .colab-df-convert:hover {\n",
              "      background-color: #E2EBFA;\n",
              "      box-shadow: 0px 1px 2px rgba(60, 64, 67, 0.3), 0px 1px 3px 1px rgba(60, 64, 67, 0.15);\n",
              "      fill: #174EA6;\n",
              "    }\n",
              "\n",
              "    [theme=dark] .colab-df-convert {\n",
              "      background-color: #3B4455;\n",
              "      fill: #D2E3FC;\n",
              "    }\n",
              "\n",
              "    [theme=dark] .colab-df-convert:hover {\n",
              "      background-color: #434B5C;\n",
              "      box-shadow: 0px 1px 3px 1px rgba(0, 0, 0, 0.15);\n",
              "      filter: drop-shadow(0px 1px 2px rgba(0, 0, 0, 0.3));\n",
              "      fill: #FFFFFF;\n",
              "    }\n",
              "  </style>\n",
              "\n",
              "      <script>\n",
              "        const buttonEl =\n",
              "          document.querySelector('#df-72a38eaa-3dae-4f29-9538-86a295d843fa button.colab-df-convert');\n",
              "        buttonEl.style.display =\n",
              "          google.colab.kernel.accessAllowed ? 'block' : 'none';\n",
              "\n",
              "        async function convertToInteractive(key) {\n",
              "          const element = document.querySelector('#df-72a38eaa-3dae-4f29-9538-86a295d843fa');\n",
              "          const dataTable =\n",
              "            await google.colab.kernel.invokeFunction('convertToInteractive',\n",
              "                                                     [key], {});\n",
              "          if (!dataTable) return;\n",
              "\n",
              "          const docLinkHtml = 'Like what you see? Visit the ' +\n",
              "            '<a target=\"_blank\" href=https://colab.research.google.com/notebooks/data_table.ipynb>data table notebook</a>'\n",
              "            + ' to learn more about interactive tables.';\n",
              "          element.innerHTML = '';\n",
              "          dataTable['output_type'] = 'display_data';\n",
              "          await google.colab.output.renderOutput(dataTable, element);\n",
              "          const docLink = document.createElement('div');\n",
              "          docLink.innerHTML = docLinkHtml;\n",
              "          element.appendChild(docLink);\n",
              "        }\n",
              "      </script>\n",
              "    </div>\n",
              "  </div>\n",
              "  "
            ]
          },
          "metadata": {},
          "execution_count": 374
        }
      ],
      "source": [
        "df = df.sample(frac = 1)\n",
        "df.head()"
      ]
    },
    {
      "cell_type": "markdown",
      "metadata": {
        "id": "bXlQrHZA-rzn"
      },
      "source": [
        "## 12. **Predicting RANK from AGGREGATE_MARK**"
      ]
    },
    {
      "cell_type": "code",
      "source": [
        "X = df['AGGREGATE_MARK']\n",
        "y = df['RANK']"
      ],
      "metadata": {
        "id": "PanbaThYO3p5"
      },
      "execution_count": 375,
      "outputs": []
    },
    {
      "cell_type": "code",
      "source": [
        "X = np.array(X)\n",
        "y = np.array(y)"
      ],
      "metadata": {
        "id": "dxEyk_dKO1m_"
      },
      "execution_count": 376,
      "outputs": []
    },
    {
      "cell_type": "code",
      "source": [
        "from sklearn.metrics import confusion_matrix"
      ],
      "metadata": {
        "id": "bR4bBOBBO9pH"
      },
      "execution_count": 377,
      "outputs": []
    },
    {
      "cell_type": "markdown",
      "metadata": {
        "id": "XMD8cbGP-1j6"
      },
      "source": [
        "### Spliting dependent and independent variables"
      ]
    },
    {
      "cell_type": "code",
      "execution_count": 378,
      "metadata": {
        "id": "jppUC0VlzLj6"
      },
      "outputs": [],
      "source": [
        "X = df['AGGREGATE_MARK']\n",
        "y = df['RANK']"
      ]
    },
    {
      "cell_type": "markdown",
      "source": [
        "### Confusion Matrix"
      ],
      "metadata": {
        "id": "nFekdjVOYbyJ"
      }
    },
    {
      "cell_type": "code",
      "source": [
        "from sklearn.datasets import fetch_openml\n",
        "from sklearn.preprocessing import StandardScaler\n",
        "from sklearn.pipeline import make_pipeline\n",
        "from sklearn.linear_model import LogisticRegression\n",
        "from sklearn.model_selection import train_test_split\n",
        "\n",
        "X, y = fetch_openml(data_id=1464, return_X_y=True)\n",
        "X_train, X_test, y_train, y_test = train_test_split(X, y, stratify=y)\n",
        "\n",
        "clf = make_pipeline(StandardScaler(), LogisticRegression(random_state=0))\n",
        "clf"
      ],
      "metadata": {
        "colab": {
          "base_uri": "https://localhost:8080/"
        },
        "id": "uVG5iP8VXrjs",
        "outputId": "b7d4f2d0-12f9-475e-b939-c61ca852ad8a"
      },
      "execution_count": 379,
      "outputs": [
        {
          "output_type": "execute_result",
          "data": {
            "text/plain": [
              "Pipeline(steps=[('standardscaler', StandardScaler()),\n",
              "                ('logisticregression', LogisticRegression(random_state=0))])"
            ]
          },
          "metadata": {},
          "execution_count": 379
        }
      ]
    },
    {
      "cell_type": "markdown",
      "source": [
        "### Accuracy"
      ],
      "metadata": {
        "id": "paK6lRfCZ-5Q"
      }
    },
    {
      "cell_type": "code",
      "source": [
        "clf_p = clf.fit(X_train, y_train)\n",
        "clf_p.score(X_test,y_test)"
      ],
      "metadata": {
        "colab": {
          "base_uri": "https://localhost:8080/"
        },
        "id": "sBvfM2pFaBIG",
        "outputId": "9b995341-249d-45b1-86c4-f340f41dec8e"
      },
      "execution_count": 380,
      "outputs": [
        {
          "output_type": "execute_result",
          "data": {
            "text/plain": [
              "0.7700534759358288"
            ]
          },
          "metadata": {},
          "execution_count": 380
        }
      ]
    },
    {
      "cell_type": "markdown",
      "source": [
        "###  Precision"
      ],
      "metadata": {
        "id": "7_WClLftaPGk"
      }
    },
    {
      "cell_type": "code",
      "source": [
        "from sklearn.metrics import confusion_matrix\n",
        "from sklearn.metrics import ConfusionMatrixDisplay\n",
        "\n",
        "y_pred = clf.predict(X_test)\n",
        "cm = confusion_matrix(y_test, y_pred)\n",
        "\n",
        "cm_display = ConfusionMatrixDisplay(cm).plot()\n"
      ],
      "metadata": {
        "colab": {
          "base_uri": "https://localhost:8080/",
          "height": 279
        },
        "id": "oY_qWWiUX09t",
        "outputId": "b06ab723-a90e-42ce-9a2a-2d08b19021b8"
      },
      "execution_count": 381,
      "outputs": [
        {
          "output_type": "display_data",
          "data": {
            "text/plain": [
              "<Figure size 432x288 with 2 Axes>"
            ],
            "image/png": "[encoded data removed]"
          },
          "metadata": {
            "needs_background": "light"
          }
        }
      ]
    },
    {
      "cell_type": "markdown",
      "source": [
        "### Recall"
      ],
      "metadata": {
        "id": "kCtBKPTqiFow"
      }
    },
    {
      "cell_type": "code",
      "source": [
        "from sklearn.metrics import recall_score\n",
        "Recall = recall_score(y_test, y_pred, average='macro')\n",
        "Recall"
      ],
      "metadata": {
        "colab": {
          "base_uri": "https://localhost:8080/"
        },
        "id": "XbLADsOQiIl6",
        "outputId": "91b30ed2-a9b0-44dc-e2dc-5e6e9130f7e3"
      },
      "execution_count": 382,
      "outputs": [
        {
          "output_type": "execute_result",
          "data": {
            "text/plain": [
              "0.5428321678321678"
            ]
          },
          "metadata": {},
          "execution_count": 382
        }
      ]
    },
    {
      "cell_type": "markdown",
      "source": [
        "### F1 score"
      ],
      "metadata": {
        "id": "fV8uA2Z3bRS4"
      }
    },
    {
      "cell_type": "code",
      "source": [
        "from sklearn.metrics import f1_score"
      ],
      "metadata": {
        "id": "QJMZjQYXbT8q"
      },
      "execution_count": 383,
      "outputs": []
    },
    {
      "cell_type": "code",
      "source": [
        "F1_Score = 2 * (cm * Recall) / (cm + Recall)\n",
        "F1_Score"
      ],
      "metadata": {
        "colab": {
          "base_uri": "https://localhost:8080/"
        },
        "id": "DVDmh9wbbcsA",
        "outputId": "945bf045-8251-48b7-dc6f-384165e16df7"
      },
      "execution_count": 384,
      "outputs": [
        {
          "output_type": "execute_result",
          "data": {
            "text/plain": [
              "array([[1.08144102, 0.95593612],\n",
              "       [1.07076066, 0.9793408 ]])"
            ]
          },
          "metadata": {},
          "execution_count": 384
        }
      ]
    },
    {
      "cell_type": "markdown",
      "source": [
        "### ROC Curve (Receiver Operating Characteristics)\n"
      ],
      "metadata": {
        "id": "XBnoNrvzYUs9"
      }
    },
    {
      "cell_type": "code",
      "source": [
        "from sklearn.metrics import roc_curve\n",
        "from sklearn.metrics import RocCurveDisplay\n",
        "\n",
        "y_score = clf.decision_function(X_test)\n",
        "\n",
        "fpr, tpr, _ = roc_curve(y_test, y_score, pos_label=clf.classes_[1])\n",
        "roc_display = RocCurveDisplay(fpr=fpr, tpr=tpr).plot()"
      ],
      "metadata": {
        "colab": {
          "base_uri": "https://localhost:8080/",
          "height": 279
        },
        "id": "0DmnyxGhYVH7",
        "outputId": "2b655ace-111a-4406-a809-60aa5296ad3d"
      },
      "execution_count": 385,
      "outputs": [
        {
          "output_type": "display_data",
          "data": {
            "text/plain": [
              "<Figure size 432x288 with 1 Axes>"
            ],
            "image/png": "[encoded data removed]"
          },
          "metadata": {
            "needs_background": "light"
          }
        }
      ]
    },
    {
      "cell_type": "markdown",
      "source": [
        "### Precision Recall "
      ],
      "metadata": {
        "id": "nPV9lmcKashC"
      }
    },
    {
      "cell_type": "code",
      "source": [
        "from sklearn.metrics import precision_recall_curve\n",
        "from sklearn.metrics import PrecisionRecallDisplay\n",
        "\n",
        "prec, recall, _ = precision_recall_curve(y_test, y_score, pos_label=clf.classes_[1])\n",
        "pr_display = PrecisionRecallDisplay(precision=prec, recall=recall).plot()"
      ],
      "metadata": {
        "colab": {
          "base_uri": "https://localhost:8080/",
          "height": 279
        },
        "id": "ykJAsVK8az1s",
        "outputId": "1c4c5d39-041f-43d0-c3b7-9dba636a0f4e"
      },
      "execution_count": 386,
      "outputs": [
        {
          "output_type": "display_data",
          "data": {
            "text/plain": [
              "<Figure size 432x288 with 1 Axes>"
            ],
            "image/png": "[encoded data removed]"
          },
          "metadata": {
            "needs_background": "light"
          }
        }
      ]
    },
    {
      "cell_type": "markdown",
      "source": [
        "### Precision Recall vs ROC curve"
      ],
      "metadata": {
        "id": "zRzAvLkUYlv5"
      }
    },
    {
      "cell_type": "code",
      "source": [
        "import matplotlib.pyplot as plt\n",
        "\n",
        "fig, (ax1, ax2) = plt.subplots(1, 2, figsize=(12, 8))\n",
        "\n",
        "roc_display.plot(ax=ax1)\n",
        "pr_display.plot(ax=ax2)\n",
        "plt.show()"
      ],
      "metadata": {
        "colab": {
          "base_uri": "https://localhost:8080/",
          "height": 497
        },
        "id": "Bc5RedElYp7n",
        "outputId": "6e371082-f0d1-474d-8312-6d1eeb7e725e"
      },
      "execution_count": 387,
      "outputs": [
        {
          "output_type": "display_data",
          "data": {
            "text/plain": [
              "<Figure size 864x576 with 2 Axes>"
            ],
            "image/png": "[encoded data removed]"
          },
          "metadata": {
            "needs_background": "light"
          }
        }
      ]
    },
    {
      "cell_type": "code",
      "execution_count": 395,
      "metadata": {
        "id": "_iTVmXaDzcX_"
      },
      "outputs": [],
      "source": [
        "from sklearn.model_selection import train_test_split\n",
        "X_train, X_test, y_train, y_test = train_test_split(X, y, train_size = 0.7, test_size = 0.3, random_state = 0)"
      ]
    },
    {
      "cell_type": "code",
      "source": [
        "X = df['AGGREGATE_MARK']\n",
        "y = df['RANK']"
      ],
      "metadata": {
        "id": "h8TpzWTCtsN0"
      },
      "execution_count": 396,
      "outputs": []
    },
    {
      "cell_type": "code",
      "execution_count": 397,
      "metadata": {
        "id": "m76VHXCDziak"
      },
      "outputs": [],
      "source": [
        "X_train\n",
        "X_train=X_train.to_numpy()\n",
        "X_train = X_train.reshape(-1, 1)"
      ]
    },
    {
      "cell_type": "code",
      "execution_count": 398,
      "metadata": {
        "id": "UXodyfxM0AX7"
      },
      "outputs": [],
      "source": [
        "y_train\n",
        "y_train=y_train.to_numpy()\n",
        "y_train = y_train.reshape(-1, 1)"
      ]
    },
    {
      "cell_type": "code",
      "execution_count": 399,
      "metadata": {
        "id": "NitdP05U0FLB"
      },
      "outputs": [],
      "source": [
        "y_test\n",
        "y_test =y_test.to_numpy()\n",
        "y_test = y_test.reshape(-1, 1)"
      ]
    },
    {
      "cell_type": "code",
      "execution_count": 400,
      "metadata": {
        "id": "nWP3O4Mb0SLp"
      },
      "outputs": [],
      "source": [
        "X_test\n",
        "X_test = X_test.to_numpy()\n",
        "X_test = X_test.reshape(-1, 1)"
      ]
    },
    {
      "cell_type": "markdown",
      "metadata": {
        "id": "Aj2mUJAd2JmW"
      },
      "source": [
        "### Model Building using LINEAR REGRESSION"
      ]
    },
    {
      "cell_type": "code",
      "execution_count": 401,
      "metadata": {
        "colab": {
          "base_uri": "https://localhost:8080/"
        },
        "id": "rig6kBOR0Mw-",
        "outputId": "6a1672f5-9ef1-45d2-c586-60ecc88d3823"
      },
      "outputs": [
        {
          "output_type": "execute_result",
          "data": {
            "text/plain": [
              "LinearRegression()"
            ]
          },
          "metadata": {},
          "execution_count": 401
        }
      ],
      "source": [
        "from sklearn.linear_model import LinearRegression\n",
        "lr=LinearRegression()\n",
        "lr.fit(X_train,y_train)"
      ]
    },
    {
      "cell_type": "markdown",
      "metadata": {
        "id": "-ur23mIxQPWA"
      },
      "source": [
        "### Model Building with 100% data"
      ]
    },
    {
      "cell_type": "code",
      "execution_count": 402,
      "metadata": {
        "colab": {
          "base_uri": "https://localhost:8080/"
        },
        "id": "fuATaqJ6QVOb",
        "outputId": "9dbd006c-9e76-4045-d48e-08246bac6e34"
      },
      "outputs": [
        {
          "output_type": "execute_result",
          "data": {
            "text/plain": [
              "LinearRegression()"
            ]
          },
          "metadata": {},
          "execution_count": 402
        }
      ],
      "source": [
        "m2r = LinearRegression()\n",
        "m2r.fit(X.to_numpy().reshape(-1,1), y.to_numpy().reshape(-1,1)) "
      ]
    },
    {
      "cell_type": "markdown",
      "metadata": {
        "id": "vxQ9R5cdEeEf"
      },
      "source": [
        "### Testing the model"
      ]
    },
    {
      "cell_type": "code",
      "execution_count": 403,
      "metadata": {
        "colab": {
          "base_uri": "https://localhost:8080/"
        },
        "id": "XDwwA0IQ0d_g",
        "outputId": "3573b1c0-9406-40f8-d291-b760cd6ceb00"
      },
      "outputs": [
        {
          "output_type": "execute_result",
          "data": {
            "text/plain": [
              "array([[61061.84904001]])"
            ]
          },
          "metadata": {},
          "execution_count": 403
        }
      ],
      "source": [
        "pred_test =lr.predict([[167.40]])\n",
        "pred_test"
      ]
    },
    {
      "cell_type": "code",
      "execution_count": 404,
      "metadata": {
        "id": "ZK1B6jY1G0Nv",
        "colab": {
          "base_uri": "https://localhost:8080/"
        },
        "outputId": "a2a3fdfb-64bf-4922-9c0c-9cdd393d8bb0"
      },
      "outputs": [
        {
          "output_type": "execute_result",
          "data": {
            "text/plain": [
              "61062"
            ]
          },
          "metadata": {},
          "execution_count": 404
        }
      ],
      "source": [
        "var = round(float(pred_test[0][0]))\n",
        "var"
      ]
    },
    {
      "cell_type": "code",
      "execution_count": 405,
      "metadata": {
        "id": "Kra-vQN1G6Gb",
        "colab": {
          "base_uri": "https://localhost:8080/"
        },
        "outputId": "22e3535c-4eaf-4848-d7c5-e41dc736fe8b"
      },
      "outputs": [
        {
          "output_type": "execute_result",
          "data": {
            "text/plain": [
              "int"
            ]
          },
          "metadata": {},
          "execution_count": 405
        }
      ],
      "source": [
        "type(var)"
      ]
    },
    {
      "cell_type": "markdown",
      "metadata": {
        "id": "b0pi-usK2G_A"
      },
      "source": [
        "### Finding accuracy"
      ]
    },
    {
      "cell_type": "code",
      "execution_count": 406,
      "metadata": {
        "id": "StVGhQom0ktA",
        "colab": {
          "base_uri": "https://localhost:8080/"
        },
        "outputId": "e9bbfeb6-1b33-4ca8-a380-e614747cdf6e"
      },
      "outputs": [
        {
          "output_type": "execute_result",
          "data": {
            "text/plain": [
              "0.9118663449570079"
            ]
          },
          "metadata": {},
          "execution_count": 406
        }
      ],
      "source": [
        "lr.score(X_test,y_test)"
      ]
    },
    {
      "cell_type": "code",
      "execution_count": 407,
      "metadata": {
        "id": "UcQncs9FQ4Zj",
        "colab": {
          "base_uri": "https://localhost:8080/"
        },
        "outputId": "a16256f1-fe66-4080-e5ca-5e394878caea"
      },
      "outputs": [
        {
          "output_type": "execute_result",
          "data": {
            "text/plain": [
              "0.91193779946438"
            ]
          },
          "metadata": {},
          "execution_count": 407
        }
      ],
      "source": [
        "m2r.score(X_test, y_test)"
      ]
    },
    {
      "cell_type": "markdown",
      "metadata": {
        "id": "q_2ORv9PACNw"
      },
      "source": [
        "### Exporting the model to pickle file"
      ]
    },
    {
      "cell_type": "code",
      "execution_count": 408,
      "metadata": {
        "id": "ifx4qTSxABrl"
      },
      "outputs": [],
      "source": [
        "with open('./marks_to_rank.pickle','wb') as f:\n",
        "    pickle.dump(m2r,f)"
      ]
    },
    {
      "cell_type": "markdown",
      "metadata": {
        "id": "RE0iqRx-Au75"
      },
      "source": [
        "## **13. PREDICTING ROUND from RANK**"
      ]
    },
    {
      "cell_type": "markdown",
      "metadata": {
        "id": "2d6qEE-IBAD_"
      },
      "source": [
        "### Spliting dependent and independent variables"
      ]
    },
    {
      "cell_type": "code",
      "execution_count": 409,
      "metadata": {
        "id": "VOAXiOk0AcIH"
      },
      "outputs": [],
      "source": [
        "X1 = df['RANK']\n",
        "y1= df['ROUND']"
      ]
    },
    {
      "cell_type": "markdown",
      "source": [
        "### Confusion Matrix"
      ],
      "metadata": {
        "id": "JgDqGSJruH5E"
      }
    },
    {
      "cell_type": "code",
      "source": [
        "from sklearn.datasets import fetch_openml\n",
        "from sklearn.preprocessing import StandardScaler\n",
        "from sklearn.pipeline import make_pipeline\n",
        "from sklearn.linear_model import LogisticRegression\n",
        "from sklearn.model_selection import train_test_split\n",
        "\n",
        "X, y = fetch_openml(data_id=1464, return_X_y=True)\n",
        "X_train, X_test, y_train, y_test = train_test_split(X, y, stratify=y)\n",
        "\n",
        "clf = make_pipeline(StandardScaler(), LogisticRegression(random_state=0))\n",
        "clf"
      ],
      "metadata": {
        "colab": {
          "base_uri": "https://localhost:8080/"
        },
        "id": "YC3qR5ZNuJ3R",
        "outputId": "117b7cfd-2b65-4f0c-c992-504ae6373574"
      },
      "execution_count": 410,
      "outputs": [
        {
          "output_type": "execute_result",
          "data": {
            "text/plain": [
              "Pipeline(steps=[('standardscaler', StandardScaler()),\n",
              "                ('logisticregression', LogisticRegression(random_state=0))])"
            ]
          },
          "metadata": {},
          "execution_count": 410
        }
      ]
    },
    {
      "cell_type": "markdown",
      "source": [
        "### Accuracy"
      ],
      "metadata": {
        "id": "rx4w-siTuOy-"
      }
    },
    {
      "cell_type": "code",
      "source": [
        "clf_p = clf.fit(X_train, y_train)\n",
        "clf_p.score(X_test,y_test)"
      ],
      "metadata": {
        "colab": {
          "base_uri": "https://localhost:8080/"
        },
        "id": "E9jat1TCuQtB",
        "outputId": "b1d87902-1dda-42df-df39-db46dab6e290"
      },
      "execution_count": 411,
      "outputs": [
        {
          "output_type": "execute_result",
          "data": {
            "text/plain": [
              "0.7754010695187166"
            ]
          },
          "metadata": {},
          "execution_count": 411
        }
      ]
    },
    {
      "cell_type": "markdown",
      "source": [
        "### Precision"
      ],
      "metadata": {
        "id": "KF_y0uUAuRvJ"
      }
    },
    {
      "cell_type": "code",
      "source": [
        "from sklearn.metrics import confusion_matrix\n",
        "from sklearn.metrics import ConfusionMatrixDisplay\n",
        "\n",
        "y_pred = clf.predict(X_test)\n",
        "cm = confusion_matrix(y_test, y_pred)\n",
        "\n",
        "cm_display = ConfusionMatrixDisplay(cm).plot()\n"
      ],
      "metadata": {
        "colab": {
          "base_uri": "https://localhost:8080/",
          "height": 283
        },
        "id": "n3fA9-sJuSZL",
        "outputId": "dbd29d3b-a42e-4dc0-a2f5-d5c9caf131cf"
      },
      "execution_count": 412,
      "outputs": [
        {
          "output_type": "display_data",
          "data": {
            "text/plain": [
              "<Figure size 432x288 with 2 Axes>"
            ],
            "image/png": "[encoded data removed]"
          },
          "metadata": {
            "needs_background": "light"
          }
        }
      ]
    },
    {
      "cell_type": "markdown",
      "source": [
        "### Recall"
      ],
      "metadata": {
        "id": "141SNLLCufdS"
      }
    },
    {
      "cell_type": "code",
      "source": [
        "from sklearn.metrics import recall_score\n",
        "Recall = recall_score(y_test, y_pred, average='macro')\n",
        "Recall"
      ],
      "metadata": {
        "colab": {
          "base_uri": "https://localhost:8080/"
        },
        "id": "BXmhUt7Suejn",
        "outputId": "8d4bb074-66f1-4a8b-9700-c4f84551b4a8"
      },
      "execution_count": 413,
      "outputs": [
        {
          "output_type": "execute_result",
          "data": {
            "text/plain": [
              "0.5485133020344288"
            ]
          },
          "metadata": {},
          "execution_count": 413
        }
      ]
    },
    {
      "cell_type": "markdown",
      "source": [
        "### F1 score"
      ],
      "metadata": {
        "id": "56jIFBfDumuA"
      }
    },
    {
      "cell_type": "code",
      "source": [
        "from sklearn.metrics import f1_score\n",
        "F1_Score = 2 * (cm * Recall) / (cm + Recall)\n",
        "F1_Score"
      ],
      "metadata": {
        "colab": {
          "base_uri": "https://localhost:8080/"
        },
        "id": "Nv82SURVumH7",
        "outputId": "a6b89110-5520-43a1-9b9a-96e27fc29e77"
      },
      "execution_count": 414,
      "outputs": [
        {
          "output_type": "execute_result",
          "data": {
            "text/plain": [
              "array([[1.09274528, 0.86091495],\n",
              "       [1.08218676, 0.98857707]])"
            ]
          },
          "metadata": {},
          "execution_count": 414
        }
      ]
    },
    {
      "cell_type": "markdown",
      "source": [
        "### ROC Curve (Receiver Operating Characteristics)\n"
      ],
      "metadata": {
        "id": "NLexFvECuy61"
      }
    },
    {
      "cell_type": "code",
      "source": [
        "from sklearn.metrics import roc_curve\n",
        "from sklearn.metrics import RocCurveDisplay\n",
        "\n",
        "y_score = clf.decision_function(X_test)\n",
        "\n",
        "fpr, tpr, _ = roc_curve(y_test, y_score, pos_label=clf.classes_[1])\n",
        "roc_display = RocCurveDisplay(fpr=fpr, tpr=tpr).plot()"
      ],
      "metadata": {
        "colab": {
          "base_uri": "https://localhost:8080/",
          "height": 279
        },
        "id": "AZdbpNDPux6T",
        "outputId": "2cf93c51-09d8-41d6-fe43-f5c27e20ee9a"
      },
      "execution_count": 415,
      "outputs": [
        {
          "output_type": "display_data",
          "data": {
            "text/plain": [
              "<Figure size 432x288 with 1 Axes>"
            ],
            "image/png": "[encoded data removed]"
          },
          "metadata": {
            "needs_background": "light"
          }
        }
      ]
    },
    {
      "cell_type": "markdown",
      "source": [
        "### Precision Recall"
      ],
      "metadata": {
        "id": "UWzOwj8nvEif"
      }
    },
    {
      "cell_type": "code",
      "source": [
        "from sklearn.metrics import precision_recall_curve\n",
        "from sklearn.metrics import PrecisionRecallDisplay\n",
        "\n",
        "prec, recall, _ = precision_recall_curve(y_test, y_score, pos_label=clf.classes_[1])\n",
        "pr_display = PrecisionRecallDisplay(precision=prec, recall=recall).plot()"
      ],
      "metadata": {
        "colab": {
          "base_uri": "https://localhost:8080/",
          "height": 279
        },
        "id": "uXQkLaZqvFXu",
        "outputId": "99b8f3c6-1041-44a4-c445-e0e5f73a9cc5"
      },
      "execution_count": 416,
      "outputs": [
        {
          "output_type": "display_data",
          "data": {
            "text/plain": [
              "<Figure size 432x288 with 1 Axes>"
            ],
            "image/png": "[encoded data removed]"
          },
          "metadata": {
            "needs_background": "light"
          }
        }
      ]
    },
    {
      "cell_type": "markdown",
      "source": [
        "### Precision Recall vs ROC curve"
      ],
      "metadata": {
        "id": "T-NtyRbtvPUF"
      }
    },
    {
      "cell_type": "code",
      "source": [
        "import matplotlib.pyplot as plt\n",
        "\n",
        "fig, (ax1, ax2) = plt.subplots(1, 2, figsize=(12, 8))\n",
        "\n",
        "roc_display.plot(ax=ax1)\n",
        "pr_display.plot(ax=ax2)\n",
        "plt.show()"
      ],
      "metadata": {
        "colab": {
          "base_uri": "https://localhost:8080/",
          "height": 497
        },
        "id": "hColOd1dvVRW",
        "outputId": "6afdd2cc-db5b-46f4-c649-6028282f2424"
      },
      "execution_count": 417,
      "outputs": [
        {
          "output_type": "display_data",
          "data": {
            "text/plain": [
              "<Figure size 864x576 with 2 Axes>"
            ],
            "image/png": "[encoded data removed]"
          },
          "metadata": {
            "needs_background": "light"
          }
        }
      ]
    },
    {
      "cell_type": "code",
      "execution_count": 418,
      "metadata": {
        "id": "jvy5g7KFA9TF"
      },
      "outputs": [],
      "source": [
        "from sklearn.model_selection import train_test_split\n",
        "X1_train, X1_test, y1_train, y1_test = train_test_split(X1, y1, train_size = 0.9, test_size = 0.1, random_state = 0)"
      ]
    },
    {
      "cell_type": "code",
      "execution_count": 419,
      "metadata": {
        "id": "DyaRZlm4BI_T"
      },
      "outputs": [],
      "source": [
        "X1_train\n",
        "X1_train=X1_train.to_numpy()\n",
        "X1_train = X1_train.reshape(-1, 1)"
      ]
    },
    {
      "cell_type": "code",
      "execution_count": 420,
      "metadata": {
        "id": "NdumkxLaBJuE"
      },
      "outputs": [],
      "source": [
        "y1_train\n",
        "y1_train=y1_train.to_numpy()\n",
        "y1_train = y1_train.reshape(-1, 1)"
      ]
    },
    {
      "cell_type": "code",
      "execution_count": 421,
      "metadata": {
        "id": "_eowtTR5BKuK"
      },
      "outputs": [],
      "source": [
        "X1_test\n",
        "X1_test=X1_test.to_numpy()\n",
        "X1_test = X1_test.reshape(-1, 1)"
      ]
    },
    {
      "cell_type": "code",
      "execution_count": 422,
      "metadata": {
        "id": "5fstqBMWBKWF"
      },
      "outputs": [],
      "source": [
        "y1_test\n",
        "y1_test=y1_test.to_numpy()\n",
        "y1_test = y1_test.reshape(-1, 1)"
      ]
    },
    {
      "cell_type": "markdown",
      "metadata": {
        "id": "TU448tu0Cxiz"
      },
      "source": [
        "### Model Building"
      ]
    },
    {
      "cell_type": "code",
      "execution_count": 423,
      "metadata": {
        "id": "qOXYptQNCMQf",
        "colab": {
          "base_uri": "https://localhost:8080/"
        },
        "outputId": "79cf3beb-fccb-4eb5-f2dd-bc2fe2bdaa01"
      },
      "outputs": [
        {
          "output_type": "execute_result",
          "data": {
            "text/plain": [
              "LinearRegression()"
            ]
          },
          "metadata": {},
          "execution_count": 423
        }
      ],
      "source": [
        "from sklearn.linear_model import LinearRegression\n",
        "lr=LinearRegression()\n",
        "lr.fit(X1_train,y1_train)"
      ]
    },
    {
      "cell_type": "markdown",
      "metadata": {
        "id": "pmUxpc4gRYJ3"
      },
      "source": [
        "### Model Building using 100% data"
      ]
    },
    {
      "cell_type": "code",
      "execution_count": 424,
      "metadata": {
        "id": "1n6Ki54vRnla",
        "colab": {
          "base_uri": "https://localhost:8080/"
        },
        "outputId": "434ecc59-c871-4fd1-8f8d-99ba03810a7e"
      },
      "outputs": [
        {
          "output_type": "execute_result",
          "data": {
            "text/plain": [
              "LinearRegression()"
            ]
          },
          "metadata": {},
          "execution_count": 424
        }
      ],
      "source": [
        "r2r = LinearRegression()\n",
        "r2r.fit(X1.to_numpy().reshape(-1,1), y1.to_numpy().reshape(-1,1))"
      ]
    },
    {
      "cell_type": "markdown",
      "metadata": {
        "id": "8fMmMD1hPbDo"
      },
      "source": [
        "### Finding the Accuracy"
      ]
    },
    {
      "cell_type": "code",
      "execution_count": 425,
      "metadata": {
        "id": "6E8xPdUlPgVJ",
        "colab": {
          "base_uri": "https://localhost:8080/"
        },
        "outputId": "bc36cec6-ba3e-4f89-992b-993042896580"
      },
      "outputs": [
        {
          "output_type": "execute_result",
          "data": {
            "text/plain": [
              "0.8629289074958698"
            ]
          },
          "metadata": {},
          "execution_count": 425
        }
      ],
      "source": [
        "lr.score(X1_test,y1_test)"
      ]
    },
    {
      "cell_type": "code",
      "execution_count": 426,
      "metadata": {
        "id": "url1e2asR3D1",
        "colab": {
          "base_uri": "https://localhost:8080/"
        },
        "outputId": "4a38a56d-b5a6-496f-9e26-dd2b967d0554"
      },
      "outputs": [
        {
          "output_type": "execute_result",
          "data": {
            "text/plain": [
              "0.8629322177155008"
            ]
          },
          "metadata": {},
          "execution_count": 426
        }
      ],
      "source": [
        "r2r.score(X1_test, y1_test)"
      ]
    },
    {
      "cell_type": "markdown",
      "metadata": {
        "id": "9ZLhOqoUEcRg"
      },
      "source": [
        "### Testing the ROUND"
      ]
    },
    {
      "cell_type": "code",
      "execution_count": 427,
      "metadata": {
        "id": "1O3ZcxxqC5BR",
        "colab": {
          "base_uri": "https://localhost:8080/"
        },
        "outputId": "a97d424b-d060-4fd6-aa51-130a8d20a78c"
      },
      "outputs": [
        {
          "output_type": "execute_result",
          "data": {
            "text/plain": [
              "array([[3.]])"
            ]
          },
          "metadata": {},
          "execution_count": 427
        }
      ],
      "source": [
        "pred_test =lr.predict([[58648]])\n",
        "if (pred_test < 1):\n",
        "  pred_test = 1\n",
        "elif pred_test > 4:\n",
        "  pred_test = 4\n",
        "else:\n",
        "  pred_test = pred_test.round()\n",
        "\n",
        "pred_test"
      ]
    },
    {
      "cell_type": "code",
      "execution_count": 428,
      "metadata": {
        "id": "3k9q-mM_DrCN",
        "colab": {
          "base_uri": "https://localhost:8080/"
        },
        "outputId": "ed2ea15a-d81b-4841-b591-121c590a515c"
      },
      "outputs": [
        {
          "output_type": "execute_result",
          "data": {
            "text/plain": [
              "int"
            ]
          },
          "metadata": {},
          "execution_count": 428
        }
      ],
      "source": [
        "type(int(pred_test[0][0]))"
      ]
    },
    {
      "cell_type": "code",
      "execution_count": 429,
      "metadata": {
        "id": "NVJertmCFa--",
        "colab": {
          "base_uri": "https://localhost:8080/"
        },
        "outputId": "64fee509-6b0a-46dd-c8f7-f12df33c3b1f"
      },
      "outputs": [
        {
          "output_type": "execute_result",
          "data": {
            "text/plain": [
              "3"
            ]
          },
          "metadata": {},
          "execution_count": 429
        }
      ],
      "source": [
        "var = np.int_(pred_test[0][0].astype(int))\n",
        "var"
      ]
    },
    {
      "cell_type": "code",
      "execution_count": 430,
      "metadata": {
        "id": "upL9J21qGVe2",
        "colab": {
          "base_uri": "https://localhost:8080/"
        },
        "outputId": "475549fc-255b-4343-8ffe-a7ec0c4503c8"
      },
      "outputs": [
        {
          "output_type": "execute_result",
          "data": {
            "text/plain": [
              "int"
            ]
          },
          "metadata": {},
          "execution_count": 430
        }
      ],
      "source": [
        "type(int(var))"
      ]
    },
    {
      "cell_type": "markdown",
      "metadata": {
        "id": "oxe74niwH2MN"
      },
      "source": [
        "### Exporting model to pickle file"
      ]
    },
    {
      "cell_type": "code",
      "execution_count": 431,
      "metadata": {
        "id": "naq030WDGjCv"
      },
      "outputs": [],
      "source": [
        "with open('./rank_to_round.pickle','wb') as f:\n",
        "    pickle.dump(r2r,f)"
      ]
    },
    {
      "cell_type": "code",
      "source": [],
      "metadata": {
        "id": "LnFOONUCw-pQ"
      },
      "execution_count": 431,
      "outputs": []
    }
  ],
  "metadata": {
    "colab": {
      "provenance": [],
      "toc_visible": true
    },
    "gpuClass": "standard",
    "kernelspec": {
      "display_name": "Python 3",
      "language": "python",
      "name": "python3"
    },
    "language_info": {
      "codemirror_mode": {
        "name": "ipython",
        "version": 3
      },
      "file_extension": ".py",
      "mimetype": "text/x-python",
      "name": "python",
      "nbconvert_exporter": "python",
      "pygments_lexer": "ipython3",
      "version": "3.7.3"
    }
  },
  "nbformat": 4,
  "nbformat_minor": 0
}